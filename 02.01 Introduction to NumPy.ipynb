{
 "cells": [
  {
   "cell_type": "markdown",
   "metadata": {},
   "source": [
    "# Введение в NumPy\n",
    "NumPy - фундаментальный модуль для научных вычислений. Он включает в себя высокоэффективную реализацию многомерных массивов, методов линейной алгебры, генераторов случайных чисел и т.д. Многие научные библиотеки, включая библиотек для машинного обучения, используют NumPy.\n",
    "\n",
    "Все данные, которые подаются на вход, обрабатываются и получаются на выходе методов анализа данных и машинного обучения, представлены в виде многомерных массивов. Методы обработки этих данных реализованы как операции над этими массивами. Поэтому эффективное хранение и обработка таких массивов данных является абсолютно фундаменательной задачей для высокоэффективных вычислений.\n",
    "\n",
    "В этом уроке мы рассмотрим как NumPy добивается такой эффективности, какие операции поддерживает и многое другое.\n",
    "\n",
    "Начнем с импорта NumPy и проверки версии"
   ]
  },
  {
   "cell_type": "code",
   "execution_count": 1,
   "metadata": {
    "ExecuteTime": {
     "end_time": "2017-12-03T16:12:50.988281Z",
     "start_time": "2017-12-03T16:12:50.875283Z"
    }
   },
   "outputs": [
    {
     "data": {
      "text/plain": [
       "'1.13.3'"
      ]
     },
     "execution_count": 1,
     "metadata": {},
     "output_type": "execute_result"
    }
   ],
   "source": [
    "import numpy\n",
    "numpy.__version__"
   ]
  },
  {
   "cell_type": "markdown",
   "metadata": {},
   "source": [
    "Обычно для удобства при импорте NumPy указывается алиас np"
   ]
  },
  {
   "cell_type": "code",
   "execution_count": 2,
   "metadata": {
    "ExecuteTime": {
     "end_time": "2017-12-03T16:12:50.993781Z",
     "start_time": "2017-12-03T16:12:50.989783Z"
    },
    "collapsed": true
   },
   "outputs": [],
   "source": [
    "import numpy as np"
   ]
  },
  {
   "cell_type": "markdown",
   "metadata": {},
   "source": [
    "Как обычно вы можете получить документацию по модулю с помощю знака `?` после названия"
   ]
  },
  {
   "cell_type": "code",
   "execution_count": 3,
   "metadata": {
    "ExecuteTime": {
     "end_time": "2017-12-03T16:12:51.007281Z",
     "start_time": "2017-12-03T16:12:50.995781Z"
    },
    "collapsed": true
   },
   "outputs": [],
   "source": [
    "np?"
   ]
  },
  {
   "cell_type": "markdown",
   "metadata": {},
   "source": [
    "### Реализация типов в Python\n",
    "Давайте сначала рассмотрим пример одного и того же кода на C и Python\n",
    "```C\n",
    "/* C code */\n",
    "int result = 0;\n",
    "for(int i = 0; i < 100; i++) {\n",
    "    result += i;\n",
    "}\n",
    "```\n",
    "Аналогичный код на Python будет выглядеть следующим образом\n",
    "```python\n",
    "# Python code\n",
    "result = 0\n",
    "for i in range(100):\n",
    "    result += i\n",
    "```\n",
    "Как видно из этого кода при объявлении переменной в C указывается тип этой переменной, а в Python этот тип выводится динамически во время выполнения. Язык C относится к языкам со статической типизацией, а Python с динамической типизацией. В первом случае можно добиться высокой скорости исполнения, но ценой более длительного времени затрачиваемого на разработку. Во втором случае время программиста, затрачиваемое на написание кода сокращается, но ценой значительно долгого времени выполнения программы.\n",
    "\n",
    "### Тип Integer в Python это целая структура\n",
    "Стандартная реализация Python также написана на C и пример кода на Python, приведенного выше, фактически является оберткой на языке C. Когда объявляется переменная с целочисленным значением Python использует следующую структуру C:\n",
    "```C\n",
    "struct _longobject {\n",
    "    long ob_refcnt;\n",
    "    PyTypeObject *ob_type;\n",
    "    size_t ob_size;\n",
    "    long ob_digit[1];\n",
    "};\n",
    "```\n",
    "Т.е. тип `Integer` в Python это не просто целочисленное значение, а целая структура, которая содержит следующую информацию:\n",
    "- ``ob_refcnt``, количество ссылок на объект для работы сборщика мусора\n",
    "- ``ob_type``, тип переменной\n",
    "- ``ob_size``, размер объекта\n",
    "- ``ob_digit``, фактическое значение\n",
    "\n",
    "Сама переменная `result` в вышеприведенном примере это всего лишь ссылка (т.е. адрес в памяти) на объект.\n",
    "### Список в Python это список структур\n",
    "Давайте рассмотрим следующий код"
   ]
  },
  {
   "cell_type": "code",
   "execution_count": 4,
   "metadata": {
    "ExecuteTime": {
     "end_time": "2017-12-03T16:12:51.021282Z",
     "start_time": "2017-12-03T16:12:51.009283Z"
    }
   },
   "outputs": [
    {
     "data": {
      "text/plain": [
       "[bool, str, float, int]"
      ]
     },
     "execution_count": 4,
     "metadata": {},
     "output_type": "execute_result"
    }
   ],
   "source": [
    "l = [True, \"42\", 3.0, 4]\n",
    "[type(item) for item in l]"
   ]
  },
  {
   "cell_type": "markdown",
   "metadata": {},
   "source": [
    "Данный код создает список в Python с разными значениями и выводит тип каждого из этих значений. Как видно из примера в списке представлены значения четырех типов. Такое возможно благодаря динамической типизации Python, что часто бывает очень удобным. Однако такая гибкость имеет свою цену: для каждого элемента списка нужно хранить отдельную структуру со всей необходимой информацией. В итоге список хранит лишь ссылки на адреса в памяти, где хранятся фактические значения списка. Если бы в списке можно было хранить только один тип данных, то большая часть этой информации была бы избыточной. Ниже схематически представлена разница в хранении данных в NumPy и Python."
   ]
  },
  {
   "cell_type": "markdown",
   "metadata": {
    "ExecuteTime": {
     "end_time": "2017-12-03T10:43:22.948053Z",
     "start_time": "2017-12-03T10:43:22.936054Z"
    }
   },
   "source": [
    "![Array Memory Layout](img/array_vs_list.png)"
   ]
  },
  {
   "cell_type": "markdown",
   "metadata": {},
   "source": [
    "Стоит отметить, что в Python начиная с версии 3.3 представлен модуль `array`, который дает возможность создания массивов с фиксированной длиной и одним типом. Однако, массивы NumPy значительно полезнее, так как кроме эффективного хранения данных также поддерживаются разные операции над ними.\n",
    "\n",
    "### Создание массивов NumPy\n",
    "Массивы NumPy можно создать несколькими способами. Например, из списков Python"
   ]
  },
  {
   "cell_type": "code",
   "execution_count": 5,
   "metadata": {
    "ExecuteTime": {
     "end_time": "2017-12-03T16:12:51.033283Z",
     "start_time": "2017-12-03T16:12:51.023283Z"
    }
   },
   "outputs": [
    {
     "data": {
      "text/plain": [
       "array([1, 2, 3, 4, 5])"
      ]
     },
     "execution_count": 5,
     "metadata": {},
     "output_type": "execute_result"
    }
   ],
   "source": [
    "np.array([1, 2, 3, 4, 5])"
   ]
  },
  {
   "cell_type": "markdown",
   "metadata": {},
   "source": [
    "При создании можно указать тип массива"
   ]
  },
  {
   "cell_type": "code",
   "execution_count": 6,
   "metadata": {
    "ExecuteTime": {
     "end_time": "2017-12-03T16:12:51.045283Z",
     "start_time": "2017-12-03T16:12:51.034783Z"
    }
   },
   "outputs": [
    {
     "data": {
      "text/plain": [
       "array([ 1.,  2.,  3.,  4.], dtype=float32)"
      ]
     },
     "execution_count": 6,
     "metadata": {},
     "output_type": "execute_result"
    }
   ],
   "source": [
    "np.array([1, 2, 3, 4], dtype='float32')"
   ]
  },
  {
   "cell_type": "markdown",
   "metadata": {},
   "source": [
    "Или создать двумерный массив"
   ]
  },
  {
   "cell_type": "code",
   "execution_count": 7,
   "metadata": {
    "ExecuteTime": {
     "end_time": "2017-12-03T16:12:51.060281Z",
     "start_time": "2017-12-03T16:12:51.047284Z"
    }
   },
   "outputs": [
    {
     "data": {
      "text/plain": [
       "array([[1, 2, 3, 4],\n",
       "       [2, 3, 4, 5],\n",
       "       [3, 4, 5, 6]])"
      ]
     },
     "execution_count": 7,
     "metadata": {},
     "output_type": "execute_result"
    }
   ],
   "source": [
    "np.array([range(i, i + 4) for i in [1, 2, 3]])"
   ]
  },
  {
   "cell_type": "markdown",
   "metadata": {},
   "source": [
    "Можно создать массивы с нулями или единицами с заданным размером массива"
   ]
  },
  {
   "cell_type": "code",
   "execution_count": 8,
   "metadata": {
    "ExecuteTime": {
     "end_time": "2017-12-03T16:12:51.075282Z",
     "start_time": "2017-12-03T16:12:51.062282Z"
    }
   },
   "outputs": [
    {
     "name": "stdout",
     "output_type": "stream",
     "text": [
      "[0 0 0 0 0 0 0 0 0 0]\n",
      "[[ 1.  1.  1.]\n",
      " [ 1.  1.  1.]\n",
      " [ 1.  1.  1.]\n",
      " [ 1.  1.  1.]\n",
      " [ 1.  1.  1.]]\n"
     ]
    }
   ],
   "source": [
    "print(np.zeros(10, dtype=int))\n",
    "print(np.ones((5, 3), dtype=float))"
   ]
  },
  {
   "cell_type": "markdown",
   "metadata": {},
   "source": [
    "Или массив, заполненный любым другим значением"
   ]
  },
  {
   "cell_type": "code",
   "execution_count": 9,
   "metadata": {
    "ExecuteTime": {
     "end_time": "2017-12-03T16:12:51.088281Z",
     "start_time": "2017-12-03T16:12:51.077282Z"
    }
   },
   "outputs": [
    {
     "data": {
      "text/plain": [
       "array([[42, 42, 42, 42, 42, 42, 42],\n",
       "       [42, 42, 42, 42, 42, 42, 42],\n",
       "       [42, 42, 42, 42, 42, 42, 42]])"
      ]
     },
     "execution_count": 9,
     "metadata": {},
     "output_type": "execute_result"
    }
   ],
   "source": [
    "np.full((3, 7), 42)"
   ]
  },
  {
   "cell_type": "markdown",
   "metadata": {},
   "source": [
    "Диапазон значений с заданным шагом получается следующим образом"
   ]
  },
  {
   "cell_type": "code",
   "execution_count": 10,
   "metadata": {
    "ExecuteTime": {
     "end_time": "2017-12-03T16:12:51.102782Z",
     "start_time": "2017-12-03T16:12:51.089782Z"
    }
   },
   "outputs": [
    {
     "data": {
      "text/plain": [
       "array([10, 12, 14, 16, 18])"
      ]
     },
     "execution_count": 10,
     "metadata": {},
     "output_type": "execute_result"
    }
   ],
   "source": [
    "np.arange(10, 20, 2)"
   ]
  },
  {
   "cell_type": "markdown",
   "metadata": {},
   "source": [
    "Массив из n чисел равномерно распределенных в заданном диапазоне можно получить с помощью функции `np.linspace`"
   ]
  },
  {
   "cell_type": "code",
   "execution_count": 11,
   "metadata": {
    "ExecuteTime": {
     "end_time": "2017-12-03T16:12:51.115782Z",
     "start_time": "2017-12-03T16:12:51.104782Z"
    }
   },
   "outputs": [
    {
     "data": {
      "text/plain": [
       "array([ 0.  ,  0.25,  0.5 ,  0.75,  1.  ])"
      ]
     },
     "execution_count": 11,
     "metadata": {},
     "output_type": "execute_result"
    }
   ],
   "source": [
    "np.linspace(0, 1, 5)"
   ]
  },
  {
   "cell_type": "markdown",
   "metadata": {},
   "source": [
    "Можно также создать двумерный массив, у которого по диагонали единицы, а во всех остальных местах нули. Такой массив имеет специальное значение в математике и называется единичной матрицей (англ. identity matrix, отсюда сокращенное название eye)"
   ]
  },
  {
   "cell_type": "code",
   "execution_count": 12,
   "metadata": {
    "ExecuteTime": {
     "end_time": "2017-12-03T16:12:51.130284Z",
     "start_time": "2017-12-03T16:12:51.117287Z"
    }
   },
   "outputs": [
    {
     "data": {
      "text/plain": [
       "array([[ 1.,  0.,  0.,  0.,  0.],\n",
       "       [ 0.,  1.,  0.,  0.,  0.],\n",
       "       [ 0.,  0.,  1.,  0.,  0.],\n",
       "       [ 0.,  0.,  0.,  1.,  0.],\n",
       "       [ 0.,  0.,  0.,  0.,  1.]])"
      ]
     },
     "execution_count": 12,
     "metadata": {},
     "output_type": "execute_result"
    }
   ],
   "source": [
    "np.eye(5)"
   ]
  },
  {
   "cell_type": "markdown",
   "metadata": {},
   "source": [
    "### Генерация случайных чисел\n",
    "Можно создавать массивы из генератора случайных чисел, что имеет много важных приложений. Например, можно генерировать равномерно распределенные случайные величины между 0 и 1"
   ]
  },
  {
   "cell_type": "code",
   "execution_count": 13,
   "metadata": {
    "ExecuteTime": {
     "end_time": "2017-12-03T16:12:51.142783Z",
     "start_time": "2017-12-03T16:12:51.131785Z"
    }
   },
   "outputs": [
    {
     "data": {
      "text/plain": [
       "array([[ 0.6820219 ,  0.39131121,  0.90829172],\n",
       "       [ 0.21743442,  0.66452465,  0.71960584],\n",
       "       [ 0.04015015,  0.2936675 ,  0.80376751]])"
      ]
     },
     "execution_count": 13,
     "metadata": {},
     "output_type": "execute_result"
    }
   ],
   "source": [
    "np.random.random((3, 3))"
   ]
  },
  {
   "cell_type": "markdown",
   "metadata": {},
   "source": [
    "Или случайных целых чисел"
   ]
  },
  {
   "cell_type": "code",
   "execution_count": 14,
   "metadata": {
    "ExecuteTime": {
     "end_time": "2017-12-03T16:12:51.156784Z",
     "start_time": "2017-12-03T16:12:51.145285Z"
    }
   },
   "outputs": [
    {
     "data": {
      "text/plain": [
       "array([[4, 2, 0],\n",
       "       [6, 8, 1],\n",
       "       [1, 5, 9]])"
      ]
     },
     "execution_count": 14,
     "metadata": {},
     "output_type": "execute_result"
    }
   ],
   "source": [
    "np.random.randint(0, 10, (3, 3))"
   ]
  },
  {
   "cell_type": "markdown",
   "metadata": {},
   "source": [
    "Генерация случайных чисел с нормальным распределением со средним значением 0 и стандартным отклонением 1"
   ]
  },
  {
   "cell_type": "code",
   "execution_count": 15,
   "metadata": {
    "ExecuteTime": {
     "end_time": "2017-12-03T16:12:51.170283Z",
     "start_time": "2017-12-03T16:12:51.158785Z"
    }
   },
   "outputs": [
    {
     "data": {
      "text/plain": [
       "array([[-0.73019538,  1.93524447,  1.19911828],\n",
       "       [-0.91108715, -0.55575574, -1.01890768],\n",
       "       [-0.68275845, -1.08175951, -0.65483112]])"
      ]
     },
     "execution_count": 15,
     "metadata": {},
     "output_type": "execute_result"
    }
   ],
   "source": [
    "np.random.normal(0, 1, (3, 3))"
   ]
  },
  {
   "cell_type": "markdown",
   "metadata": {},
   "source": [
    "### Атрибуты массивов\n",
    "У каждого массива есть набор полезных атрибутов, из которых можно узнать информацию о массиве. Начнем с создания массива"
   ]
  },
  {
   "cell_type": "code",
   "execution_count": 16,
   "metadata": {
    "ExecuteTime": {
     "end_time": "2017-12-03T16:12:51.183287Z",
     "start_time": "2017-12-03T16:12:51.172282Z"
    }
   },
   "outputs": [
    {
     "data": {
      "text/plain": [
       "array([[[5, 0, 3, 3, 7],\n",
       "        [9, 3, 5, 2, 4],\n",
       "        [7, 6, 8, 8, 1],\n",
       "        [6, 7, 7, 8, 1]],\n",
       "\n",
       "       [[5, 9, 8, 9, 4],\n",
       "        [3, 0, 3, 5, 0],\n",
       "        [2, 3, 8, 1, 3],\n",
       "        [3, 3, 7, 0, 1]],\n",
       "\n",
       "       [[9, 9, 0, 4, 7],\n",
       "        [3, 2, 7, 2, 0],\n",
       "        [0, 4, 5, 5, 6],\n",
       "        [8, 4, 1, 4, 9]]])"
      ]
     },
     "execution_count": 16,
     "metadata": {},
     "output_type": "execute_result"
    }
   ],
   "source": [
    "import numpy as np\n",
    "np.random.seed(0)\n",
    "\n",
    "a3 = np.random.randint(10, size=(3, 4, 5))  # Three-dimensional array\n",
    "a3"
   ]
  },
  {
   "cell_type": "markdown",
   "metadata": {},
   "source": [
    "У каждого массива есть атрибуты `ndim` (количество измерений), `shape` (размер каждого измерения) и `size` (количество всех элементов массива)"
   ]
  },
  {
   "cell_type": "code",
   "execution_count": 17,
   "metadata": {
    "ExecuteTime": {
     "end_time": "2017-12-03T16:12:51.195787Z",
     "start_time": "2017-12-03T16:12:51.185287Z"
    }
   },
   "outputs": [
    {
     "name": "stdout",
     "output_type": "stream",
     "text": [
      "ndim: 3\n",
      "shape: (3, 4, 5)\n",
      "size: 60\n"
     ]
    }
   ],
   "source": [
    "print('ndim:', a3.ndim)\n",
    "print('shape:', a3.shape)\n",
    "print('size:', a3.size)"
   ]
  },
  {
   "cell_type": "markdown",
   "metadata": {},
   "source": [
    "Атрибут `dtype` показывает тип данных в массиве"
   ]
  },
  {
   "cell_type": "code",
   "execution_count": 18,
   "metadata": {
    "ExecuteTime": {
     "end_time": "2017-12-03T16:12:51.209785Z",
     "start_time": "2017-12-03T16:12:51.198286Z"
    }
   },
   "outputs": [
    {
     "data": {
      "text/plain": [
       "dtype('int32')"
      ]
     },
     "execution_count": 18,
     "metadata": {},
     "output_type": "execute_result"
    }
   ],
   "source": [
    "a3.dtype"
   ]
  },
  {
   "cell_type": "markdown",
   "metadata": {},
   "source": [
    "Атрибут `itemsize` показывает размер каждого элемента массива в байтах, а атрибут `nbytes` показывает общий размер всего массива в байтах"
   ]
  },
  {
   "cell_type": "code",
   "execution_count": 19,
   "metadata": {
    "ExecuteTime": {
     "end_time": "2017-12-03T16:12:51.222781Z",
     "start_time": "2017-12-03T16:12:51.212283Z"
    }
   },
   "outputs": [
    {
     "name": "stdout",
     "output_type": "stream",
     "text": [
      "itemsize:  4\n",
      "nbytes:  240\n"
     ]
    }
   ],
   "source": [
    "print('itemsize: ', a3.itemsize)\n",
    "print('nbytes: ', a3.nbytes)"
   ]
  },
  {
   "cell_type": "markdown",
   "metadata": {},
   "source": [
    "### Индексация массива\n",
    "NumPy поддерживает индексацию в стиле списков Python"
   ]
  },
  {
   "cell_type": "code",
   "execution_count": 20,
   "metadata": {
    "ExecuteTime": {
     "end_time": "2017-12-03T16:12:51.236782Z",
     "start_time": "2017-12-03T16:12:51.224783Z"
    }
   },
   "outputs": [
    {
     "data": {
      "text/plain": [
       "array([8, 1, 1, 7, 9, 9, 3, 6, 7, 2])"
      ]
     },
     "execution_count": 20,
     "metadata": {},
     "output_type": "execute_result"
    }
   ],
   "source": [
    "a1 = np.random.randint(10, size=10)\n",
    "a1"
   ]
  },
  {
   "cell_type": "code",
   "execution_count": 21,
   "metadata": {
    "ExecuteTime": {
     "end_time": "2017-12-03T16:12:51.250785Z",
     "start_time": "2017-12-03T16:12:51.238785Z"
    }
   },
   "outputs": [
    {
     "data": {
      "text/plain": [
       "9"
      ]
     },
     "execution_count": 21,
     "metadata": {},
     "output_type": "execute_result"
    }
   ],
   "source": [
    "a1[5]"
   ]
  },
  {
   "cell_type": "code",
   "execution_count": 22,
   "metadata": {
    "ExecuteTime": {
     "end_time": "2017-12-03T16:12:51.264781Z",
     "start_time": "2017-12-03T16:12:51.253282Z"
    }
   },
   "outputs": [
    {
     "data": {
      "text/plain": [
       "7"
      ]
     },
     "execution_count": 22,
     "metadata": {},
     "output_type": "execute_result"
    }
   ],
   "source": [
    "a1[-2]"
   ]
  },
  {
   "cell_type": "markdown",
   "metadata": {},
   "source": [
    "Аналогично для двухмерных массивов"
   ]
  },
  {
   "cell_type": "code",
   "execution_count": 23,
   "metadata": {
    "ExecuteTime": {
     "end_time": "2017-12-03T16:12:51.282284Z",
     "start_time": "2017-12-03T16:12:51.266784Z"
    }
   },
   "outputs": [
    {
     "data": {
      "text/plain": [
       "array([[0, 3, 5, 9, 4],\n",
       "       [4, 6, 4, 4, 3],\n",
       "       [4, 4, 8, 4, 3]])"
      ]
     },
     "execution_count": 23,
     "metadata": {},
     "output_type": "execute_result"
    }
   ],
   "source": [
    "a2 = np.random.randint(10, size=(3, 5))\n",
    "a2"
   ]
  },
  {
   "cell_type": "code",
   "execution_count": 24,
   "metadata": {
    "ExecuteTime": {
     "end_time": "2017-12-03T16:12:51.297281Z",
     "start_time": "2017-12-03T16:12:51.284282Z"
    }
   },
   "outputs": [
    {
     "data": {
      "text/plain": [
       "0"
      ]
     },
     "execution_count": 24,
     "metadata": {},
     "output_type": "execute_result"
    }
   ],
   "source": [
    "a2[0, 0]"
   ]
  },
  {
   "cell_type": "code",
   "execution_count": 25,
   "metadata": {
    "ExecuteTime": {
     "end_time": "2017-12-03T16:12:51.311783Z",
     "start_time": "2017-12-03T16:12:51.299283Z"
    }
   },
   "outputs": [
    {
     "data": {
      "text/plain": [
       "3"
      ]
     },
     "execution_count": 25,
     "metadata": {},
     "output_type": "execute_result"
    }
   ],
   "source": [
    "a2[2, -1]"
   ]
  },
  {
   "cell_type": "markdown",
   "metadata": {
    "ExecuteTime": {
     "end_time": "2017-12-03T16:12:36.645993Z",
     "start_time": "2017-12-03T16:12:36.635995Z"
    }
   },
   "source": [
    "Можно присвоить значение элементу массива"
   ]
  },
  {
   "cell_type": "code",
   "execution_count": 26,
   "metadata": {
    "ExecuteTime": {
     "end_time": "2017-12-03T16:12:51.325283Z",
     "start_time": "2017-12-03T16:12:51.313783Z"
    }
   },
   "outputs": [
    {
     "data": {
      "text/plain": [
       "array([[42,  3,  5,  9,  4],\n",
       "       [ 4,  6,  4,  4,  3],\n",
       "       [ 4,  4,  8,  4,  3]])"
      ]
     },
     "execution_count": 26,
     "metadata": {},
     "output_type": "execute_result"
    }
   ],
   "source": [
    "a2[0, 0] = 42\n",
    "a2"
   ]
  },
  {
   "cell_type": "markdown",
   "metadata": {},
   "source": [
    "### Срезы и подмассивы\n",
    "NumPy следует синтаксису Python для получения подмассивов:\n",
    "```Python\n",
    "a[start:stop:step]\n",
    "```\n",
    "Если какой-то из этих параметров не указаны, то по умолчанию используется `start=0`, `stop=size of dimension` и `step=1`.\n",
    "\n",
    "### Примеры для одномерных массивов"
   ]
  },
  {
   "cell_type": "code",
   "execution_count": 27,
   "metadata": {
    "ExecuteTime": {
     "end_time": "2017-12-03T16:12:51.338780Z",
     "start_time": "2017-12-03T16:12:51.327783Z"
    }
   },
   "outputs": [
    {
     "data": {
      "text/plain": [
       "array([8, 1, 1, 7, 9])"
      ]
     },
     "execution_count": 27,
     "metadata": {},
     "output_type": "execute_result"
    }
   ],
   "source": [
    "a1[:5]"
   ]
  },
  {
   "cell_type": "code",
   "execution_count": 28,
   "metadata": {
    "ExecuteTime": {
     "end_time": "2017-12-03T16:12:51.352283Z",
     "start_time": "2017-12-03T16:12:51.340784Z"
    }
   },
   "outputs": [
    {
     "data": {
      "text/plain": [
       "array([7, 9, 9, 3])"
      ]
     },
     "execution_count": 28,
     "metadata": {},
     "output_type": "execute_result"
    }
   ],
   "source": [
    "a1[3:7]"
   ]
  },
  {
   "cell_type": "code",
   "execution_count": 29,
   "metadata": {
    "ExecuteTime": {
     "end_time": "2017-12-03T16:12:51.365782Z",
     "start_time": "2017-12-03T16:12:51.354283Z"
    }
   },
   "outputs": [
    {
     "data": {
      "text/plain": [
       "array([9, 9, 3, 6, 7, 2])"
      ]
     },
     "execution_count": 29,
     "metadata": {},
     "output_type": "execute_result"
    }
   ],
   "source": [
    "a1[4:]"
   ]
  },
  {
   "cell_type": "code",
   "execution_count": 30,
   "metadata": {
    "ExecuteTime": {
     "end_time": "2017-12-03T16:12:51.378782Z",
     "start_time": "2017-12-03T16:12:51.367785Z"
    }
   },
   "outputs": [
    {
     "data": {
      "text/plain": [
       "array([8, 1, 9, 3, 7])"
      ]
     },
     "execution_count": 30,
     "metadata": {},
     "output_type": "execute_result"
    }
   ],
   "source": [
    "a1[::2]"
   ]
  },
  {
   "cell_type": "code",
   "execution_count": 31,
   "metadata": {
    "ExecuteTime": {
     "end_time": "2017-12-03T16:12:51.391783Z",
     "start_time": "2017-12-03T16:12:51.380784Z"
    }
   },
   "outputs": [
    {
     "data": {
      "text/plain": [
       "array([2, 7, 6, 3, 9, 9, 7, 1, 1, 8])"
      ]
     },
     "execution_count": 31,
     "metadata": {},
     "output_type": "execute_result"
    }
   ],
   "source": [
    "a1[::-1]"
   ]
  },
  {
   "cell_type": "code",
   "execution_count": 32,
   "metadata": {
    "ExecuteTime": {
     "end_time": "2017-12-03T16:12:51.408783Z",
     "start_time": "2017-12-03T16:12:51.393783Z"
    }
   },
   "outputs": [
    {
     "data": {
      "text/plain": [
       "array([1, 9, 7])"
      ]
     },
     "execution_count": 32,
     "metadata": {},
     "output_type": "execute_result"
    }
   ],
   "source": [
    "a1[2:-1:3]"
   ]
  },
  {
   "cell_type": "markdown",
   "metadata": {},
   "source": [
    "### Примеры для многомерных массивов\n",
    "Для многомерных массивов срезы (slice) указываются для каждого измерения по отдельности через запятую"
   ]
  },
  {
   "cell_type": "code",
   "execution_count": 33,
   "metadata": {
    "ExecuteTime": {
     "end_time": "2017-12-03T16:12:51.421782Z",
     "start_time": "2017-12-03T16:12:51.410285Z"
    }
   },
   "outputs": [
    {
     "data": {
      "text/plain": [
       "array([[42,  3,  5,  9,  4],\n",
       "       [ 4,  6,  4,  4,  3],\n",
       "       [ 4,  4,  8,  4,  3]])"
      ]
     },
     "execution_count": 33,
     "metadata": {},
     "output_type": "execute_result"
    }
   ],
   "source": [
    "a2"
   ]
  },
  {
   "cell_type": "code",
   "execution_count": 34,
   "metadata": {
    "ExecuteTime": {
     "end_time": "2017-12-03T16:12:51.437787Z",
     "start_time": "2017-12-03T16:12:51.424785Z"
    }
   },
   "outputs": [
    {
     "data": {
      "text/plain": [
       "array([[42,  3,  5,  9],\n",
       "       [ 4,  6,  4,  4]])"
      ]
     },
     "execution_count": 34,
     "metadata": {},
     "output_type": "execute_result"
    }
   ],
   "source": [
    "a2[:2, :4] # two rows, four columns"
   ]
  },
  {
   "cell_type": "code",
   "execution_count": 35,
   "metadata": {
    "ExecuteTime": {
     "end_time": "2017-12-03T16:12:51.452781Z",
     "start_time": "2017-12-03T16:12:51.439787Z"
    }
   },
   "outputs": [
    {
     "data": {
      "text/plain": [
       "array([[ 4,  9,  5,  3, 42],\n",
       "       [ 3,  4,  4,  6,  4]])"
      ]
     },
     "execution_count": 35,
     "metadata": {},
     "output_type": "execute_result"
    }
   ],
   "source": [
    "a2[:2, ::-1] # two rows, columns in reverse order"
   ]
  },
  {
   "cell_type": "markdown",
   "metadata": {},
   "source": [
    "### Выбор строк и колонок\n",
    "Для выбора одной строки или колонки многомерного массива целиком можно использовать пустой срез (:)"
   ]
  },
  {
   "cell_type": "code",
   "execution_count": 36,
   "metadata": {
    "ExecuteTime": {
     "end_time": "2017-12-03T16:12:51.464783Z",
     "start_time": "2017-12-03T16:12:51.454784Z"
    }
   },
   "outputs": [
    {
     "data": {
      "text/plain": [
       "array([3, 6, 4])"
      ]
     },
     "execution_count": 36,
     "metadata": {},
     "output_type": "execute_result"
    }
   ],
   "source": [
    "a2[:, 1] # choose all rows for second column"
   ]
  },
  {
   "cell_type": "code",
   "execution_count": 37,
   "metadata": {
    "ExecuteTime": {
     "end_time": "2017-12-03T16:12:51.479284Z",
     "start_time": "2017-12-03T16:12:51.466785Z"
    }
   },
   "outputs": [
    {
     "data": {
      "text/plain": [
       "array([4, 4, 8, 4, 3])"
      ]
     },
     "execution_count": 37,
     "metadata": {},
     "output_type": "execute_result"
    }
   ],
   "source": [
    "a2[2, :] # choose all columns for third row"
   ]
  },
  {
   "cell_type": "markdown",
   "metadata": {},
   "source": [
    "### Срезы не являются копиями\n",
    "Срезы массивов не создаются копированием соответствующих значений. Если изменить значение подмассива, то соответствующее значение в оригинальном массиве тоже изменится"
   ]
  },
  {
   "cell_type": "code",
   "execution_count": 39,
   "metadata": {
    "ExecuteTime": {
     "end_time": "2017-12-03T16:19:44.542647Z",
     "start_time": "2017-12-03T16:19:44.537648Z"
    }
   },
   "outputs": [
    {
     "data": {
      "text/plain": [
       "array([[42,  3,  5,  9,  4],\n",
       "       [ 4,  6,  4,  4,  3],\n",
       "       [ 4,  4,  8,  4,  3]])"
      ]
     },
     "execution_count": 39,
     "metadata": {},
     "output_type": "execute_result"
    }
   ],
   "source": [
    "a2"
   ]
  },
  {
   "cell_type": "code",
   "execution_count": 38,
   "metadata": {
    "ExecuteTime": {
     "end_time": "2017-12-03T16:19:30.540518Z",
     "start_time": "2017-12-03T16:19:30.537515Z"
    }
   },
   "outputs": [
    {
     "name": "stdout",
     "output_type": "stream",
     "text": [
      "[[42  3]\n",
      " [ 4  6]]\n"
     ]
    }
   ],
   "source": [
    "a2_sub = a2[:2, :2]\n",
    "print(a2_sub)"
   ]
  },
  {
   "cell_type": "code",
   "execution_count": 40,
   "metadata": {
    "ExecuteTime": {
     "end_time": "2017-12-03T16:20:15.752000Z",
     "start_time": "2017-12-03T16:20:15.747005Z"
    }
   },
   "outputs": [
    {
     "data": {
      "text/plain": [
       "array([[42,  3,  5,  9,  4],\n",
       "       [ 4, 13,  4,  4,  3],\n",
       "       [ 4,  4,  8,  4,  3]])"
      ]
     },
     "execution_count": 40,
     "metadata": {},
     "output_type": "execute_result"
    }
   ],
   "source": [
    "a2_sub[1, 1] = 13\n",
    "a2"
   ]
  },
  {
   "cell_type": "markdown",
   "metadata": {},
   "source": [
    "Для создания срезов с копированием можно использовать метод `copy()` массива"
   ]
  },
  {
   "cell_type": "code",
   "execution_count": 41,
   "metadata": {
    "ExecuteTime": {
     "end_time": "2017-12-03T16:22:03.465028Z",
     "start_time": "2017-12-03T16:22:03.461025Z"
    }
   },
   "outputs": [
    {
     "name": "stdout",
     "output_type": "stream",
     "text": [
      "[[42  3  5  9  4]\n",
      " [ 4 13  4  4  3]\n",
      " [ 4  4  8  4  3]]\n"
     ]
    }
   ],
   "source": [
    "a2_sub = a2[:2, :2].copy()\n",
    "a2_sub[1,1] = 321\n",
    "print(a2)"
   ]
  },
  {
   "cell_type": "markdown",
   "metadata": {},
   "source": [
    "### Изменение формы массива (reshaping)\n",
    "Иногда необходимо изменить форму массива. Например, разложить одномерный массив в несколько строк"
   ]
  },
  {
   "cell_type": "code",
   "execution_count": 44,
   "metadata": {
    "ExecuteTime": {
     "end_time": "2017-12-03T16:32:02.800385Z",
     "start_time": "2017-12-03T16:32:02.796385Z"
    }
   },
   "outputs": [
    {
     "name": "stdout",
     "output_type": "stream",
     "text": [
      "[[ 1  2  3  4]\n",
      " [ 5  6  7  8]\n",
      " [ 9 10 11 12]\n",
      " [13 14 15 16]]\n"
     ]
    }
   ],
   "source": [
    "x = np.arange(1, 17).reshape((4, 4))\n",
    "print(x)"
   ]
  },
  {
   "cell_type": "markdown",
   "metadata": {},
   "source": [
    "В некоторых случая необходимо создать из одномерного массива двумерный массив с одной строкой или колонкой"
   ]
  },
  {
   "cell_type": "code",
   "execution_count": 45,
   "metadata": {
    "ExecuteTime": {
     "end_time": "2017-12-03T16:34:42.161785Z",
     "start_time": "2017-12-03T16:34:42.156784Z"
    }
   },
   "outputs": [
    {
     "name": "stdout",
     "output_type": "stream",
     "text": [
      "[[1 2 3]]\n",
      "[[1]\n",
      " [2]\n",
      " [3]]\n"
     ]
    }
   ],
   "source": [
    "x = np.array([1, 2, 3])\n",
    "print(x.reshape((1, 3)))"
   ]
  },
  {
   "cell_type": "code",
   "execution_count": 46,
   "metadata": {
    "ExecuteTime": {
     "end_time": "2017-12-03T16:35:01.680587Z",
     "start_time": "2017-12-03T16:35:01.676587Z"
    }
   },
   "outputs": [
    {
     "name": "stdout",
     "output_type": "stream",
     "text": [
      "[[1]\n",
      " [2]\n",
      " [3]]\n"
     ]
    }
   ],
   "source": [
    "print(x.reshape((3, 1)))"
   ]
  },
  {
   "cell_type": "markdown",
   "metadata": {},
   "source": [
    "Такого же результата можно добиться с помощью объекта `np.newaxis`"
   ]
  },
  {
   "cell_type": "code",
   "execution_count": 48,
   "metadata": {
    "ExecuteTime": {
     "end_time": "2017-12-03T16:38:10.256205Z",
     "start_time": "2017-12-03T16:38:10.252202Z"
    }
   },
   "outputs": [
    {
     "data": {
      "text/plain": [
       "array([[1, 2, 3]])"
      ]
     },
     "execution_count": 48,
     "metadata": {},
     "output_type": "execute_result"
    }
   ],
   "source": [
    "x[np.newaxis, :]"
   ]
  },
  {
   "cell_type": "code",
   "execution_count": 50,
   "metadata": {
    "ExecuteTime": {
     "end_time": "2017-12-03T16:38:36.515684Z",
     "start_time": "2017-12-03T16:38:36.510685Z"
    }
   },
   "outputs": [
    {
     "data": {
      "text/plain": [
       "array([[1],\n",
       "       [2],\n",
       "       [3]])"
      ]
     },
     "execution_count": 50,
     "metadata": {},
     "output_type": "execute_result"
    }
   ],
   "source": [
    "x[:, np.newaxis]"
   ]
  },
  {
   "cell_type": "markdown",
   "metadata": {},
   "source": [
    "### Объединение массивов"
   ]
  },
  {
   "cell_type": "markdown",
   "metadata": {
    "ExecuteTime": {
     "end_time": "2017-12-03T16:43:39.478351Z",
     "start_time": "2017-12-03T16:43:39.474352Z"
    }
   },
   "source": [
    "Можно объеденить несколько массивов в один с помощью функции `np.concatenate`"
   ]
  },
  {
   "cell_type": "code",
   "execution_count": 52,
   "metadata": {
    "ExecuteTime": {
     "end_time": "2017-12-03T16:43:49.613573Z",
     "start_time": "2017-12-03T16:43:49.607072Z"
    }
   },
   "outputs": [
    {
     "data": {
      "text/plain": [
       "array([1, 2, 3, 3, 2, 1])"
      ]
     },
     "execution_count": 52,
     "metadata": {},
     "output_type": "execute_result"
    }
   ],
   "source": [
    "x = np.array([1, 2, 3])\n",
    "y = np.array([3, 2, 1])\n",
    "np.concatenate([x, y])"
   ]
  },
  {
   "cell_type": "markdown",
   "metadata": {},
   "source": [
    "Можно объеденить многомерные массивы"
   ]
  },
  {
   "cell_type": "code",
   "execution_count": 53,
   "metadata": {
    "ExecuteTime": {
     "end_time": "2017-12-03T16:45:07.139283Z",
     "start_time": "2017-12-03T16:45:07.133283Z"
    }
   },
   "outputs": [
    {
     "data": {
      "text/plain": [
       "array([[ 1,  2,  3],\n",
       "       [ 4,  5,  6],\n",
       "       [ 7,  8,  9],\n",
       "       [10, 11, 12]])"
      ]
     },
     "execution_count": 53,
     "metadata": {},
     "output_type": "execute_result"
    }
   ],
   "source": [
    "x = np.array([[1, 2, 3],\n",
    "              [4, 5, 6]])\n",
    "y = np.array([[7, 8, 9],\n",
    "              [10, 11, 12]])\n",
    "np.concatenate([x, y])"
   ]
  },
  {
   "cell_type": "markdown",
   "metadata": {},
   "source": [
    "Также можно указать измерение, по которому нужно объеденить, с помощью параметра `axis`"
   ]
  },
  {
   "cell_type": "code",
   "execution_count": 54,
   "metadata": {
    "ExecuteTime": {
     "end_time": "2017-12-03T16:47:00.434195Z",
     "start_time": "2017-12-03T16:47:00.429696Z"
    },
    "scrolled": false
   },
   "outputs": [
    {
     "data": {
      "text/plain": [
       "array([[ 1,  2,  3,  7,  8,  9],\n",
       "       [ 4,  5,  6, 10, 11, 12]])"
      ]
     },
     "execution_count": 54,
     "metadata": {},
     "output_type": "execute_result"
    }
   ],
   "source": [
    "np.concatenate([x, y], axis=1)"
   ]
  },
  {
   "cell_type": "markdown",
   "metadata": {},
   "source": [
    "Есть также методы `np.vstack` и `np.hstack` для объединения массивов в строки или столбцы. Эти методы более интуитывно понятны, особенно когда размер одного измерения массивов не одинаковый"
   ]
  },
  {
   "cell_type": "code",
   "execution_count": 55,
   "metadata": {
    "ExecuteTime": {
     "end_time": "2017-12-03T16:51:26.042174Z",
     "start_time": "2017-12-03T16:51:26.034675Z"
    }
   },
   "outputs": [
    {
     "data": {
      "text/plain": [
       "array([[1, 2, 3],\n",
       "       [9, 8, 7],\n",
       "       [6, 5, 4]])"
      ]
     },
     "execution_count": 55,
     "metadata": {},
     "output_type": "execute_result"
    }
   ],
   "source": [
    "x = np.array([1, 2, 3])\n",
    "y = np.array([[9, 8, 7],\n",
    "              [6, 5, 4]])\n",
    "\n",
    "# vertically stack the arrays\n",
    "np.vstack([x, y])"
   ]
  },
  {
   "cell_type": "code",
   "execution_count": 56,
   "metadata": {
    "ExecuteTime": {
     "end_time": "2017-12-03T16:53:07.672006Z",
     "start_time": "2017-12-03T16:53:07.665006Z"
    }
   },
   "outputs": [
    {
     "data": {
      "text/plain": [
       "array([[1, 9, 8, 7],\n",
       "       [2, 6, 5, 4],\n",
       "       [3, 3, 2, 1]])"
      ]
     },
     "execution_count": 56,
     "metadata": {},
     "output_type": "execute_result"
    }
   ],
   "source": [
    "x = np.array([[1], \n",
    "              [2], \n",
    "              [3]])\n",
    "y = np.array([[9, 8, 7],\n",
    "              [6, 5, 4],\n",
    "              [3, 2, 1]])\n",
    "\n",
    "# vertically stack the arrays\n",
    "np.hstack([x, y])"
   ]
  }
 ],
 "metadata": {
  "anaconda-cloud": {},
  "hide_input": false,
  "kernelspec": {
   "display_name": "Python [default]",
   "language": "python",
   "name": "python3"
  },
  "language_info": {
   "codemirror_mode": {
    "name": "ipython",
    "version": 3
   },
   "file_extension": ".py",
   "mimetype": "text/x-python",
   "name": "python",
   "nbconvert_exporter": "python",
   "pygments_lexer": "ipython3",
   "version": "3.5.2"
  },
  "varInspector": {
   "cols": {
    "lenName": 16,
    "lenType": 16,
    "lenVar": 40
   },
   "kernels_config": {
    "python": {
     "delete_cmd_postfix": "",
     "delete_cmd_prefix": "del ",
     "library": "var_list.py",
     "varRefreshCmd": "print(var_dic_list())"
    },
    "r": {
     "delete_cmd_postfix": ") ",
     "delete_cmd_prefix": "rm(",
     "library": "var_list.r",
     "varRefreshCmd": "cat(var_dic_list()) "
    }
   },
   "types_to_exclude": [
    "module",
    "function",
    "builtin_function_or_method",
    "instance",
    "_Feature"
   ],
   "window_display": false
  }
 },
 "nbformat": 4,
 "nbformat_minor": 2
}
