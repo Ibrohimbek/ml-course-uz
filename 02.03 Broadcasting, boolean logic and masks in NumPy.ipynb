{
 "cells": [
  {
   "cell_type": "markdown",
   "metadata": {},
   "source": [
    "# Broadcasting\n",
    "Для успешного выполнения векторизованных вычислений между двумя массивами необходимо, чтобы их размеры соответствовали друг другу. Если массивы разных размеров, то NumPy применяет ряд правил, чтобы успешно выпонить вычисление. Набор этих правил называются [**broadcasting**.](https://docs.scipy.org/doc/numpy-1.13.0/user/basics.broadcasting.html)\n",
    "\n",
    "Рассмотрим следующий пример, в котором к массиву добавляется скалярное значение"
   ]
  },
  {
   "cell_type": "code",
   "execution_count": 1,
   "metadata": {
    "ExecuteTime": {
     "end_time": "2017-12-05T14:46:54.004772Z",
     "start_time": "2017-12-05T14:46:53.387823Z"
    },
    "collapsed": true
   },
   "outputs": [],
   "source": [
    "import numpy as np"
   ]
  },
  {
   "cell_type": "code",
   "execution_count": 4,
   "metadata": {
    "ExecuteTime": {
     "end_time": "2017-12-05T14:53:20.980396Z",
     "start_time": "2017-12-05T14:53:20.975396Z"
    }
   },
   "outputs": [
    {
     "data": {
      "text/plain": [
       "array([10, 11])"
      ]
     },
     "execution_count": 4,
     "metadata": {},
     "output_type": "execute_result"
    }
   ],
   "source": [
    "x = np.arange(2)\n",
    "x + 10"
   ]
  },
  {
   "cell_type": "markdown",
   "metadata": {},
   "source": [
    "В данном случае этот код фактически эквиваленптен следующему, в котором вмсесто числа 10 используется другой массив такого же размера как и массив `x` заполненный значениями 10"
   ]
  },
  {
   "cell_type": "code",
   "execution_count": 5,
   "metadata": {
    "ExecuteTime": {
     "end_time": "2017-12-05T14:53:29.412324Z",
     "start_time": "2017-12-05T14:53:29.406334Z"
    }
   },
   "outputs": [
    {
     "data": {
      "text/plain": [
       "array([10, 11])"
      ]
     },
     "execution_count": 5,
     "metadata": {},
     "output_type": "execute_result"
    }
   ],
   "source": [
    "y = np.full(2, 10)\n",
    "x + y"
   ]
  },
  {
   "cell_type": "markdown",
   "metadata": {},
   "source": [
    "Точно также одномерный массив может быть \"расстянут\" для сложения с двумерным массивом"
   ]
  },
  {
   "cell_type": "code",
   "execution_count": 8,
   "metadata": {
    "ExecuteTime": {
     "end_time": "2017-12-05T14:58:19.245806Z",
     "start_time": "2017-12-05T14:58:19.240306Z"
    }
   },
   "outputs": [
    {
     "data": {
      "text/plain": [
       "array([[10, 11],\n",
       "       [10, 11]])"
      ]
     },
     "execution_count": 8,
     "metadata": {},
     "output_type": "execute_result"
    }
   ],
   "source": [
    "z = np.full(shape=(2, 2), fill_value=10)\n",
    "z + x"
   ]
  },
  {
   "cell_type": "markdown",
   "metadata": {},
   "source": [
    "При применении broadcasting размер обоих массивов может быть изменен. Например, если один массив содержит одну строку, а второй одну колонку"
   ]
  },
  {
   "cell_type": "code",
   "execution_count": 11,
   "metadata": {
    "ExecuteTime": {
     "end_time": "2017-12-05T15:34:35.880278Z",
     "start_time": "2017-12-05T15:34:35.875276Z"
    }
   },
   "outputs": [
    {
     "name": "stdout",
     "output_type": "stream",
     "text": [
      "[0 1 2]\n",
      "[[0]\n",
      " [1]\n",
      " [2]]\n"
     ]
    }
   ],
   "source": [
    "x = np.arange(3)\n",
    "y = np.arange(3)[:, np.newaxis]\n",
    "\n",
    "print(x)\n",
    "print(y)"
   ]
  },
  {
   "cell_type": "code",
   "execution_count": 12,
   "metadata": {
    "ExecuteTime": {
     "end_time": "2017-12-05T15:34:36.316622Z",
     "start_time": "2017-12-05T15:34:36.310619Z"
    }
   },
   "outputs": [
    {
     "data": {
      "text/plain": [
       "array([[0, 1, 2],\n",
       "       [1, 2, 3],\n",
       "       [2, 3, 4]])"
      ]
     },
     "execution_count": 12,
     "metadata": {},
     "output_type": "execute_result"
    }
   ],
   "source": [
    "x + y"
   ]
  },
  {
   "cell_type": "markdown",
   "metadata": {},
   "source": [
    "В данном случае оба массива выли \"расстянуты\", чтобы размер обоих соответсвовал друг другу. \n",
    "\n",
    "Broadcasting можно визуализировать следующей картинкой"
   ]
  },
  {
   "cell_type": "markdown",
   "metadata": {},
   "source": [
    "![Broadcasting Visual](img/numpy-broadcasting.png)"
   ]
  },
  {
   "cell_type": "markdown",
   "metadata": {},
   "source": [
    "Прозрачные кубики соответствуют \"расстянутым\" частям массива. Нужно отметить, что broadcasting физически не создает новые элементы массива и не занимает дополнительной памяти, это всего лишь концептуальное представление этих правил.\n",
    "\n",
    "## Правила Broadcasting\n",
    "При выполнении арифметических операций между двумя массивами NumPy проверяет размеры каждого измерения по очереди начиная с конца. Два измерения считаются совместимыми если\n",
    "\n",
    "1. Если их размеры совпадают\n",
    "2. Размер измерения одного из них равен 1\n",
    "\n",
    "Если размер измерения первого массива равен 1, то значения этого измерения будут продублированы, чтобы соответствовать измерению второго массива. Итоговый массив будет содержать максимальный размер по каждому из измерений. Например, если сложить два массива размерами `2 x 1 x 3` и `2 x 5 x 1`, итоговый массив будет иметь размер `2 x 5 x 3`.\n",
    "\n",
    "Стоит отметить, что количество измерений не должно быть одинаковым в обоих массивах. Так как сранвение измерений идет с конца, то именно эти последние измерения должны соответствовать друг другу"
   ]
  },
  {
   "cell_type": "code",
   "execution_count": 19,
   "metadata": {
    "ExecuteTime": {
     "end_time": "2017-12-05T16:40:54.765513Z",
     "start_time": "2017-12-05T16:40:54.760512Z"
    }
   },
   "outputs": [
    {
     "name": "stdout",
     "output_type": "stream",
     "text": [
      "M1      shape: (2, 1, 3)\n",
      "M2      shape: (2, 5, 1)\n",
      "M1 + M2 shape: (2, 5, 3)\n"
     ]
    }
   ],
   "source": [
    "M1 = np.ones(shape=(2, 1, 3))\n",
    "M2 = np.ones(shape=(2, 5, 1))\n",
    "print('M1      shape:', M1.shape)\n",
    "print('M2      shape:', M2.shape)\n",
    "print('M1 + M2 shape:', (M1 + M2).shape)"
   ]
  },
  {
   "cell_type": "markdown",
   "metadata": {},
   "source": [
    "Стоит отметить, что количество измерений не должно быть одинаковым в обоих массивах. Так как сранвение измерений идет с конца, то именно эти последние измерения должны соответствовать друг другу. \n",
    "\n",
    "Если измерения двух массивов не соответствуют друг другу, то выйдет ошибка `ValueError: operands could not be broadcast together with shapes`"
   ]
  },
  {
   "cell_type": "code",
   "execution_count": 26,
   "metadata": {
    "ExecuteTime": {
     "end_time": "2017-12-05T16:48:53.295099Z",
     "start_time": "2017-12-05T16:48:53.287094Z"
    }
   },
   "outputs": [
    {
     "ename": "ValueError",
     "evalue": "operands could not be broadcast together with shapes (3,2) (3,) ",
     "output_type": "error",
     "traceback": [
      "\u001b[1;31m---------------------------------------------------------------------------\u001b[0m",
      "\u001b[1;31mValueError\u001b[0m                                Traceback (most recent call last)",
      "\u001b[1;32m<ipython-input-26-98d7191cd655>\u001b[0m in \u001b[0;36m<module>\u001b[1;34m()\u001b[0m\n\u001b[0;32m      1\u001b[0m \u001b[0mM\u001b[0m \u001b[1;33m=\u001b[0m \u001b[0mnp\u001b[0m\u001b[1;33m.\u001b[0m\u001b[0mones\u001b[0m\u001b[1;33m(\u001b[0m\u001b[1;33m(\u001b[0m\u001b[1;36m3\u001b[0m\u001b[1;33m,\u001b[0m \u001b[1;36m2\u001b[0m\u001b[1;33m)\u001b[0m\u001b[1;33m)\u001b[0m\u001b[1;33m\u001b[0m\u001b[0m\n\u001b[0;32m      2\u001b[0m \u001b[0mx\u001b[0m \u001b[1;33m=\u001b[0m \u001b[0mnp\u001b[0m\u001b[1;33m.\u001b[0m\u001b[0marange\u001b[0m\u001b[1;33m(\u001b[0m\u001b[1;36m3\u001b[0m\u001b[1;33m)\u001b[0m\u001b[1;33m\u001b[0m\u001b[0m\n\u001b[1;32m----> 3\u001b[1;33m \u001b[0mM\u001b[0m \u001b[1;33m+\u001b[0m \u001b[0mx\u001b[0m\u001b[1;33m\u001b[0m\u001b[0m\n\u001b[0m",
      "\u001b[1;31mValueError\u001b[0m: operands could not be broadcast together with shapes (3,2) (3,) "
     ]
    }
   ],
   "source": [
    "M = np.ones((2, 2))\n",
    "x = np.arange(3)\n",
    "M + x"
   ]
  },
  {
   "cell_type": "markdown",
   "metadata": {},
   "source": [
    "Остальные примеры можно найти в [официальной доументации](https://docs.scipy.org/doc/numpy-1.13.0/user/basics.broadcasting.html)"
   ]
  },
  {
   "cell_type": "markdown",
   "metadata": {},
   "source": [
    "# Логические операции\n"
   ]
  }
 ],
 "metadata": {
  "hide_input": false,
  "kernelspec": {
   "display_name": "Python 3",
   "language": "python",
   "name": "python3"
  },
  "language_info": {
   "codemirror_mode": {
    "name": "ipython",
    "version": 3
   },
   "file_extension": ".py",
   "mimetype": "text/x-python",
   "name": "python",
   "nbconvert_exporter": "python",
   "pygments_lexer": "ipython3",
   "version": "3.6.1"
  },
  "varInspector": {
   "cols": {
    "lenName": 16,
    "lenType": 16,
    "lenVar": 40
   },
   "kernels_config": {
    "python": {
     "delete_cmd_postfix": "",
     "delete_cmd_prefix": "del ",
     "library": "var_list.py",
     "varRefreshCmd": "print(var_dic_list())"
    },
    "r": {
     "delete_cmd_postfix": ") ",
     "delete_cmd_prefix": "rm(",
     "library": "var_list.r",
     "varRefreshCmd": "cat(var_dic_list()) "
    }
   },
   "types_to_exclude": [
    "module",
    "function",
    "builtin_function_or_method",
    "instance",
    "_Feature"
   ],
   "window_display": false
  }
 },
 "nbformat": 4,
 "nbformat_minor": 2
}
