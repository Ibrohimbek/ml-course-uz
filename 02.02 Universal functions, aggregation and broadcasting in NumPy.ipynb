{
 "cells": [
  {
   "cell_type": "markdown",
   "metadata": {},
   "source": [
    "# Векторизованные вычисления\n",
    "До сих пор мы рассмотрели самые простые возможности NumPy. Теперь мы перейдем к наиболее важной особенности массивов NumPy - векторизованным вычислениям.\n",
    "\n",
    "Обычно для обработки элементов массива используются циклы. Рассмотрим пример вычисления обратного значения ($1/x$) для каждого элемента массива"
   ]
  },
  {
   "cell_type": "code",
   "execution_count": 1,
   "metadata": {
    "ExecuteTime": {
     "end_time": "2017-12-04T16:01:38.343645Z",
     "start_time": "2017-12-04T16:01:38.247645Z"
    }
   },
   "outputs": [
    {
     "data": {
      "text/plain": [
       "array([ 0.14285714,  0.25      ,  0.125     ,  0.2       ,  0.14285714])"
      ]
     },
     "execution_count": 1,
     "metadata": {},
     "output_type": "execute_result"
    }
   ],
   "source": [
    "import numpy as np\n",
    "np.random.seed(42)\n",
    "\n",
    "def reciprocals(values):\n",
    "    x = np.empty(len(values))\n",
    "    for i in range(len(values)):\n",
    "        x[i] = 1.0 / values[i]\n",
    "    return x\n",
    "        \n",
    "values = np.random.randint(1, 10, size=5)\n",
    "reciprocals(values)"
   ]
  },
  {
   "cell_type": "markdown",
   "metadata": {},
   "source": [
    "Давайте измерим время работы данной функции для очень большого массива с помощью magic команды %magic"
   ]
  },
  {
   "cell_type": "code",
   "execution_count": 2,
   "metadata": {
    "ExecuteTime": {
     "end_time": "2017-12-04T16:01:48.397653Z",
     "start_time": "2017-12-04T16:01:38.344645Z"
    }
   },
   "outputs": [
    {
     "name": "stdout",
     "output_type": "stream",
     "text": [
      "1 loop, best of 3: 2.48 s per loop\n"
     ]
    }
   ],
   "source": [
    "big_array = np.random.randint(1, 1000, size=1_000_000)\n",
    "%timeit reciprocals(big_array)"
   ]
  },
  {
   "cell_type": "markdown",
   "metadata": {},
   "source": [
    "Наименьшее время на вызов функции `reciprocals` составил несколько секунд. Это крайне много по сравнению, например, с языком C. Причина такого медленного выполнения в том, что при каждой итерации Python проверяет тип элемента массива и выбирает функцию, которая соответствует для данного типа. Если тип каждого элемента был известен заранее, то таких накладных расходов не было бы.\n",
    "\n",
    "Вместо использования такого явного цикла NumPy позволяет использовать многие операторы напрямую с массивом. При этом оператор применится для каждого элемента массива. Такие вычисления называются векторизованными, так как мы применяем сразу к целому вектору (т.е. массиву)"
   ]
  },
  {
   "cell_type": "code",
   "execution_count": 3,
   "metadata": {
    "ExecuteTime": {
     "end_time": "2017-12-04T16:01:48.404648Z",
     "start_time": "2017-12-04T16:01:48.399653Z"
    }
   },
   "outputs": [
    {
     "name": "stdout",
     "output_type": "stream",
     "text": [
      "[ 0.14285714  0.25        0.125       0.2         0.14285714]\n",
      "[ 0.14285714  0.25        0.125       0.2         0.14285714]\n"
     ]
    }
   ],
   "source": [
    "print(reciprocals(values))\n",
    "print(1.0 / values)"
   ]
  },
  {
   "cell_type": "markdown",
   "metadata": {},
   "source": [
    "Как видно мы получили одинаквый результат для обоих вызовов. Давайте проверим время выполнения "
   ]
  },
  {
   "cell_type": "code",
   "execution_count": 4,
   "metadata": {
    "ExecuteTime": {
     "end_time": "2017-12-04T16:01:49.722647Z",
     "start_time": "2017-12-04T16:01:48.406647Z"
    }
   },
   "outputs": [
    {
     "name": "stdout",
     "output_type": "stream",
     "text": [
      "100 loops, best of 3: 3.15 ms per loop\n"
     ]
    }
   ],
   "source": [
    "%timeit (1.0 / big_array)"
   ]
  },
  {
   "cell_type": "markdown",
   "metadata": {},
   "source": [
    "Наименьшее время примерно в 830 раз меньше, чем при вызове функции `reciprocals` (~2.5 секунды против ~3 миллисекунд. Ваш результат может отличаться, но разница будет в таких же масштабах). Векторизованные вычисления можно выполнять между двумя массивами"
   ]
  },
  {
   "cell_type": "code",
   "execution_count": 5,
   "metadata": {
    "ExecuteTime": {
     "end_time": "2017-12-04T16:01:49.729648Z",
     "start_time": "2017-12-04T16:01:49.723647Z"
    }
   },
   "outputs": [
    {
     "data": {
      "text/plain": [
       "array([ 6.        ,  2.5       ,  1.33333333,  0.75      ,  0.4       ])"
      ]
     },
     "execution_count": 5,
     "metadata": {},
     "output_type": "execute_result"
    }
   ],
   "source": [
    "np.arange(6, 1, -1) / np.arange(1, 6)"
   ]
  },
  {
   "cell_type": "markdown",
   "metadata": {},
   "source": [
    "Также поддерживаются многомерные массивы"
   ]
  },
  {
   "cell_type": "code",
   "execution_count": 6,
   "metadata": {
    "ExecuteTime": {
     "end_time": "2017-12-04T16:01:49.744648Z",
     "start_time": "2017-12-04T16:01:49.731648Z"
    }
   },
   "outputs": [
    {
     "data": {
      "text/plain": [
       "array([[  1,   2,   4],\n",
       "       [  8,  16,  32],\n",
       "       [ 64, 128, 256]], dtype=int32)"
      ]
     },
     "execution_count": 6,
     "metadata": {},
     "output_type": "execute_result"
    }
   ],
   "source": [
    "x = np.arange(9).reshape((3, 3))\n",
    "2 ** x"
   ]
  },
  {
   "cell_type": "markdown",
   "metadata": {},
   "source": [
    "Можно строить выражения любой сложности для векторизованных вычислений"
   ]
  },
  {
   "cell_type": "code",
   "execution_count": 7,
   "metadata": {
    "ExecuteTime": {
     "end_time": "2017-12-04T16:01:49.755649Z",
     "start_time": "2017-12-04T16:01:49.745647Z"
    }
   },
   "outputs": [
    {
     "data": {
      "text/plain": [
       "array([1, 2, 3, 4])"
      ]
     },
     "execution_count": 7,
     "metadata": {},
     "output_type": "execute_result"
    }
   ],
   "source": [
    "x = np.arange(1, 5)\n",
    "x"
   ]
  },
  {
   "cell_type": "code",
   "execution_count": 8,
   "metadata": {
    "ExecuteTime": {
     "end_time": "2017-12-04T16:01:49.767648Z",
     "start_time": "2017-12-04T16:01:49.756647Z"
    }
   },
   "outputs": [
    {
     "data": {
      "text/plain": [
       "array([4, 5, 6, 7])"
      ]
     },
     "execution_count": 8,
     "metadata": {},
     "output_type": "execute_result"
    }
   ],
   "source": [
    "x + 3"
   ]
  },
  {
   "cell_type": "code",
   "execution_count": 9,
   "metadata": {
    "ExecuteTime": {
     "end_time": "2017-12-04T16:01:49.781648Z",
     "start_time": "2017-12-04T16:01:49.768647Z"
    }
   },
   "outputs": [
    {
     "data": {
      "text/plain": [
       "array([3, 5, 7, 9])"
      ]
     },
     "execution_count": 9,
     "metadata": {},
     "output_type": "execute_result"
    }
   ],
   "source": [
    "x * 2 + 1"
   ]
  },
  {
   "cell_type": "code",
   "execution_count": 10,
   "metadata": {
    "ExecuteTime": {
     "end_time": "2017-12-04T16:01:49.794647Z",
     "start_time": "2017-12-04T16:01:49.783648Z"
    }
   },
   "outputs": [
    {
     "data": {
      "text/plain": [
       "array([ 0.04761905,  0.0297619 ,  0.02380952,  0.02083333])"
      ]
     },
     "execution_count": 10,
     "metadata": {},
     "output_type": "execute_result"
    }
   ],
   "source": [
    "((x + 3) / 42) / (2 * x)"
   ]
  },
  {
   "cell_type": "markdown",
   "metadata": {},
   "source": [
    "NumPy включает в себя большое количество полезных функций, которые поддерживают векторизованные операции. Например, тригонометрические функции"
   ]
  },
  {
   "cell_type": "code",
   "execution_count": 11,
   "metadata": {
    "ExecuteTime": {
     "end_time": "2017-12-04T16:01:49.806648Z",
     "start_time": "2017-12-04T16:01:49.795648Z"
    }
   },
   "outputs": [
    {
     "name": "stdout",
     "output_type": "stream",
     "text": [
      "cos^2(x) + sin^2(x) = [ 1.  1.  1.  1.]\n"
     ]
    }
   ],
   "source": [
    "print('cos^2(x) + sin^2(x) =', np.cos(x) ** 2 + np.sin(x) ** 2)"
   ]
  },
  {
   "cell_type": "markdown",
   "metadata": {},
   "source": [
    "Или логарифмы и экспонента"
   ]
  },
  {
   "cell_type": "code",
   "execution_count": 12,
   "metadata": {
    "ExecuteTime": {
     "end_time": "2017-12-04T16:01:49.821647Z",
     "start_time": "2017-12-04T16:01:49.807647Z"
    },
    "scrolled": true
   },
   "outputs": [
    {
     "name": "stdout",
     "output_type": "stream",
     "text": [
      "e^x      = [  2.71828183   7.3890561   20.08553692  54.59815003]\n",
      "e^x - 1  = [  1.71828183   6.3890561   19.08553692  53.59815003]\n",
      "ln(x)    = [ 0.          0.69314718  1.09861229  1.38629436]\n",
      "ln(x+1)  = [ 0.69314718  1.09861229  1.38629436  1.60943791]\n",
      "log2(x)  = [ 0.         1.         1.5849625  2.       ]\n",
      "log10(x) = [ 0.         1.         1.5849625  2.       ]\n"
     ]
    }
   ],
   "source": [
    "print('e^x      =', np.exp(x))\n",
    "print('e^x - 1  =', np.expm1(x))\n",
    "print('ln(x)    =', np.log(x))\n",
    "print('ln(x+1)  =', np.log1p(x))\n",
    "print('log2(x)  =', np.log2(x))\n",
    "print('log10(x) =', np.log2(x))"
   ]
  },
  {
   "cell_type": "markdown",
   "metadata": {},
   "source": [
    "## Агригирующие функции\n",
    "NumPy поддерживает простые агригирующие функции как минимум, максимум, сумма"
   ]
  },
  {
   "cell_type": "code",
   "execution_count": 13,
   "metadata": {
    "ExecuteTime": {
     "end_time": "2017-12-04T16:01:49.866653Z",
     "start_time": "2017-12-04T16:01:49.823647Z"
    }
   },
   "outputs": [
    {
     "data": {
      "text/plain": [
       "(1000000,)"
      ]
     },
     "execution_count": 13,
     "metadata": {},
     "output_type": "execute_result"
    }
   ],
   "source": [
    "x = np.random.normal(0, 100, size=1_000_000)\n",
    "x.shape"
   ]
  },
  {
   "cell_type": "code",
   "execution_count": 14,
   "metadata": {
    "ExecuteTime": {
     "end_time": "2017-12-04T16:01:49.875648Z",
     "start_time": "2017-12-04T16:01:49.867647Z"
    }
   },
   "outputs": [
    {
     "name": "stdout",
     "output_type": "stream",
     "text": [
      "min: -480.871903296\n",
      "max: 462.132900248\n",
      "sum: -37376.6084239\n"
     ]
    }
   ],
   "source": [
    "print('min:', np.min(x))\n",
    "print('max:', np.max(x))\n",
    "print('sum:', np.sum(x))"
   ]
  },
  {
   "cell_type": "markdown",
   "metadata": {},
   "source": [
    "Часто необходимо получить индекс минимального или максимального элемента"
   ]
  },
  {
   "cell_type": "code",
   "execution_count": 15,
   "metadata": {
    "ExecuteTime": {
     "end_time": "2017-12-04T16:01:49.891647Z",
     "start_time": "2017-12-04T16:01:49.876649Z"
    }
   },
   "outputs": [
    {
     "name": "stdout",
     "output_type": "stream",
     "text": [
      "argmin: 159908 value: -480.871903296\n",
      "argmax: 193533 value: 462.132900248\n"
     ]
    }
   ],
   "source": [
    "print('argmin:', np.argmin(x), 'value:', x[np.argmin(x)])\n",
    "print('argmax:', np.argmax(x), 'value:', x[np.argmax(x)])"
   ]
  },
  {
   "cell_type": "markdown",
   "metadata": {},
   "source": [
    "Также есть набор стандартных статистик"
   ]
  },
  {
   "cell_type": "code",
   "execution_count": 16,
   "metadata": {
    "ExecuteTime": {
     "end_time": "2017-12-04T16:01:49.920653Z",
     "start_time": "2017-12-04T16:01:49.893647Z"
    },
    "scrolled": true
   },
   "outputs": [
    {
     "name": "stdout",
     "output_type": "stream",
     "text": [
      "mean  :  -0.0373766084239\n",
      "median:  -0.0373766084239\n",
      "std   :  100.004072348\n",
      "var   :  10000.8144862\n"
     ]
    }
   ],
   "source": [
    "print('mean  : ', np.mean(x))\n",
    "print('median: ', np.mean(x))\n",
    "print('std   : ', np.std(x))\n",
    "print('var   : ', np.var(x))"
   ]
  },
  {
   "cell_type": "markdown",
   "metadata": {},
   "source": [
    "### Агрегирование многомерных массивов\n",
    "При агригировании многомерных массивов можно указать ось (`axis`), по которому нгеобходимо выпонить агрегацию"
   ]
  },
  {
   "cell_type": "code",
   "execution_count": 36,
   "metadata": {
    "ExecuteTime": {
     "end_time": "2017-12-04T16:10:31.076106Z",
     "start_time": "2017-12-04T16:10:31.072110Z"
    }
   },
   "outputs": [
    {
     "name": "stdout",
     "output_type": "stream",
     "text": [
      "[[4 4 7]\n",
      " [6 1 2]]\n"
     ]
    }
   ],
   "source": [
    "X = np.random.randint(0, 10, size=(2, 3))\n",
    "print(X)"
   ]
  },
  {
   "cell_type": "code",
   "execution_count": 37,
   "metadata": {
    "ExecuteTime": {
     "end_time": "2017-12-04T16:10:31.645774Z",
     "start_time": "2017-12-04T16:10:31.641774Z"
    },
    "scrolled": true
   },
   "outputs": [
    {
     "name": "stdout",
     "output_type": "stream",
     "text": [
      "total sum : 24\n",
      "column sum: [10  5  9]\n",
      "row sum   : [15  9]\n"
     ]
    }
   ],
   "source": [
    "print('total sum :', np.sum(X))\n",
    "print('column sum:', np.sum(X, axis=0))\n",
    "print('row sum   :', np.sum(X, axis=1))"
   ]
  },
  {
   "cell_type": "code",
   "execution_count": 38,
   "metadata": {
    "ExecuteTime": {
     "end_time": "2017-12-04T16:10:32.792900Z",
     "start_time": "2017-12-04T16:10:32.786900Z"
    }
   },
   "outputs": [
    {
     "name": "stdout",
     "output_type": "stream",
     "text": [
      "maximum   : 7\n",
      "column max: [6 4 7]\n",
      "row max   : [7 6]\n"
     ]
    }
   ],
   "source": [
    "print('maximum   :', np.max(X))\n",
    "print('column max:', np.max(X, axis=0))\n",
    "print('row max   :', np.max(X, axis=1))"
   ]
  },
  {
   "cell_type": "markdown",
   "metadata": {},
   "source": [
    "Список агригирующих функций\n",
    "\n",
    "|Функция            |   Без учета NaN     | Описание                                      |\n",
    "|-------------------|---------------------|-----------------------------------------------|\n",
    "| `np.sum`          | `np.nansum`         | Сумма                                         |\n",
    "| `np.prod`         | `np.nanprod`        | Произведение                                  |\n",
    "| `np.mean`         | `np.nanmean`        | Среднее значение                              |\n",
    "| `np.std`          | `np.nanstd`         | Стандартное отклонение                        |\n",
    "| `np.var`          | `np.nanvar`         | Дисперсия                                     |\n",
    "| `np.min`          | `np.nanmin`         | Минимум                                       |\n",
    "| `np.max`          | `np.nanmax`         | Максимум                                      |\n",
    "| `np.argmin`       | `np.nanargmin`      | Индекс миниимального элемента массива         |\n",
    "| `np.argmax`       | `np.nanargmax`      | Индекс максимального элемента массива         |\n",
    "| `np.median`       | `np.nanmedian`      | Медиана                                       |\n",
    "| `np.percentile`   | `np.nanpercentile`  | Перцентиль                                    |\n"
   ]
  },
  {
   "cell_type": "markdown",
   "metadata": {},
   "source": [
    "## Кумулятивные функции\n",
    "В NumPy также есть кумулятивные функции, которые вычисляют накапливающее значение функции"
   ]
  },
  {
   "cell_type": "code",
   "execution_count": 41,
   "metadata": {
    "ExecuteTime": {
     "end_time": "2017-12-04T16:17:45.943286Z",
     "start_time": "2017-12-04T16:17:45.939289Z"
    }
   },
   "outputs": [
    {
     "name": "stdout",
     "output_type": "stream",
     "text": [
      "cumsum : [ 1  3  6 10]\n",
      "cumprod: [ 1  2  6 24]\n"
     ]
    }
   ],
   "source": [
    "x = np.arange(1, 5)\n",
    "print('cumsum :', np.cumsum(x))\n",
    "print('cumprod:', np.cumprod(x))"
   ]
  },
  {
   "cell_type": "markdown",
   "metadata": {},
   "source": [
    "Ниже приведено вычисление для выражения $\\sum_{k=0}^{10} \\frac{1}{k!}$. Знаете что вычисляет данное выражение?"
   ]
  },
  {
   "cell_type": "code",
   "execution_count": 43,
   "metadata": {
    "ExecuteTime": {
     "end_time": "2017-12-04T16:18:25.162051Z",
     "start_time": "2017-12-04T16:18:25.157051Z"
    }
   },
   "outputs": [
    {
     "data": {
      "text/plain": [
       "2.7182815255731922"
      ]
     },
     "execution_count": 43,
     "metadata": {},
     "output_type": "execute_result"
    }
   ],
   "source": [
    "x = np.arange(1, 10)\n",
    "1 + np.sum(1 / np.cumprod(x))"
   ]
  }
 ],
 "metadata": {
  "hide_input": false,
  "kernelspec": {
   "display_name": "Python 3",
   "language": "python",
   "name": "python3"
  },
  "language_info": {
   "codemirror_mode": {
    "name": "ipython",
    "version": 3
   },
   "file_extension": ".py",
   "mimetype": "text/x-python",
   "name": "python",
   "nbconvert_exporter": "python",
   "pygments_lexer": "ipython3",
   "version": "3.6.1"
  },
  "varInspector": {
   "cols": {
    "lenName": 16,
    "lenType": 16,
    "lenVar": 40
   },
   "kernels_config": {
    "python": {
     "delete_cmd_postfix": "",
     "delete_cmd_prefix": "del ",
     "library": "var_list.py",
     "varRefreshCmd": "print(var_dic_list())"
    },
    "r": {
     "delete_cmd_postfix": ") ",
     "delete_cmd_prefix": "rm(",
     "library": "var_list.r",
     "varRefreshCmd": "cat(var_dic_list()) "
    }
   },
   "types_to_exclude": [
    "module",
    "function",
    "builtin_function_or_method",
    "instance",
    "_Feature"
   ],
   "window_display": false
  }
 },
 "nbformat": 4,
 "nbformat_minor": 2
}
