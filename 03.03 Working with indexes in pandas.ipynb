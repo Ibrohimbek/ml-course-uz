{
 "cells": [
  {
   "cell_type": "markdown",
   "metadata": {},
   "source": [
    "# Индексы в pandas\n",
    "При знакомстве с pandas мы видели два атрибута `index` и `columns`, которые возвращали соответственно индексы и колонки `DataFrame`. Эти два атрибута имеют тип `Index`. Это специальный тип в pandas, у которого есть множество полезных функций. \n",
    "\n",
    "`Index` сам по себе является отдельной структурой данных. К его элементам можно обращаться как к стандартным спискам в Python. `Index` поддерживает такие операции над множествами, как объединение, пересечение и симметрическая разность. Также при работе над двумя объектами типа `Series` или `DataFrame` их индексы выравниваются так, чтобы автоматически выполнять операции только над соответствующими элементами. \n",
    "\n",
    "Можно создать самостоятельный индекс из массива следующим образом"
   ]
  },
  {
   "cell_type": "code",
   "execution_count": 1,
   "metadata": {
    "ExecuteTime": {
     "end_time": "2017-12-16T12:11:12.574547Z",
     "start_time": "2017-12-16T12:11:12.043048Z"
    },
    "collapsed": true
   },
   "outputs": [],
   "source": [
    "import pandas as pd\n",
    "import numpy as np"
   ]
  },
  {
   "cell_type": "code",
   "execution_count": 2,
   "metadata": {
    "ExecuteTime": {
     "end_time": "2017-12-16T12:11:12.587048Z",
     "start_time": "2017-12-16T12:11:12.576047Z"
    }
   },
   "outputs": [
    {
     "data": {
      "text/plain": [
       "Int64Index([2, 4, 6, 8], dtype='int64')"
      ]
     },
     "execution_count": 2,
     "metadata": {},
     "output_type": "execute_result"
    }
   ],
   "source": [
    "index = pd.Index(np.arange(2, 10, 2))\n",
    "index"
   ]
  },
  {
   "cell_type": "markdown",
   "metadata": {},
   "source": [
    "К элементам индекса можно обращаться как обычным спискам Python"
   ]
  },
  {
   "cell_type": "code",
   "execution_count": 3,
   "metadata": {
    "ExecuteTime": {
     "end_time": "2017-12-16T12:11:12.601547Z",
     "start_time": "2017-12-16T12:11:12.589049Z"
    }
   },
   "outputs": [
    {
     "data": {
      "text/plain": [
       "Int64Index([2, 8], dtype='int64')"
      ]
     },
     "execution_count": 3,
     "metadata": {},
     "output_type": "execute_result"
    }
   ],
   "source": [
    "index[::3]"
   ]
  },
  {
   "cell_type": "markdown",
   "metadata": {},
   "source": [
    "Индексу можно задать имя, которое будет отображаться при выводе `Series` и `DataFrame`"
   ]
  },
  {
   "cell_type": "code",
   "execution_count": 4,
   "metadata": {
    "ExecuteTime": {
     "end_time": "2017-12-16T12:11:12.616047Z",
     "start_time": "2017-12-16T12:11:12.603047Z"
    }
   },
   "outputs": [
    {
     "data": {
      "text/plain": [
       "Int64Index([2, 4, 6, 8], dtype='int64', name='#idx')"
      ]
     },
     "execution_count": 4,
     "metadata": {},
     "output_type": "execute_result"
    }
   ],
   "source": [
    "index.name = '#idx'\n",
    "index"
   ]
  },
  {
   "cell_type": "code",
   "execution_count": 5,
   "metadata": {
    "ExecuteTime": {
     "end_time": "2017-12-16T12:11:12.637548Z",
     "start_time": "2017-12-16T12:11:12.618550Z"
    }
   },
   "outputs": [
    {
     "data": {
      "text/plain": [
       "#idx\n",
       "2    1\n",
       "4    2\n",
       "6    3\n",
       "8    4\n",
       "dtype: int64"
      ]
     },
     "execution_count": 5,
     "metadata": {},
     "output_type": "execute_result"
    }
   ],
   "source": [
    "pd.Series([1, 2, 3, 4], index=index)"
   ]
  },
  {
   "cell_type": "markdown",
   "metadata": {},
   "source": [
    "Индексы поддерживают стандартные операции над множествами с помощью операторов `&`, `|` и `^` для пересечения, объединения и симметрической разности соответственно. "
   ]
  },
  {
   "cell_type": "code",
   "execution_count": 6,
   "metadata": {
    "ExecuteTime": {
     "end_time": "2017-12-16T12:11:12.656546Z",
     "start_time": "2017-12-16T12:11:12.639047Z"
    }
   },
   "outputs": [
    {
     "name": "stdout",
     "output_type": "stream",
     "text": [
      "Int64Index([1, 3, 5, 7], dtype='int64')\n",
      "Int64Index([3, 4, 5, 6], dtype='int64')\n"
     ]
    }
   ],
   "source": [
    "indA = pd.Index(np.arange(1, 8, 2))\n",
    "indB = pd.Index(np.arange(3, 7))\n",
    "print(indA)\n",
    "print(indB)"
   ]
  },
  {
   "cell_type": "code",
   "execution_count": 7,
   "metadata": {
    "ExecuteTime": {
     "end_time": "2017-12-16T12:11:12.671547Z",
     "start_time": "2017-12-16T12:11:12.658047Z"
    }
   },
   "outputs": [
    {
     "data": {
      "text/plain": [
       "Int64Index([3, 5], dtype='int64')"
      ]
     },
     "execution_count": 7,
     "metadata": {},
     "output_type": "execute_result"
    }
   ],
   "source": [
    "indA & indB"
   ]
  },
  {
   "cell_type": "code",
   "execution_count": 8,
   "metadata": {
    "ExecuteTime": {
     "end_time": "2017-12-16T12:11:12.691547Z",
     "start_time": "2017-12-16T12:11:12.673048Z"
    }
   },
   "outputs": [
    {
     "data": {
      "text/plain": [
       "Int64Index([1, 3, 4, 5, 6, 7], dtype='int64')"
      ]
     },
     "execution_count": 8,
     "metadata": {},
     "output_type": "execute_result"
    }
   ],
   "source": [
    "indA | indB"
   ]
  },
  {
   "cell_type": "code",
   "execution_count": 9,
   "metadata": {
    "ExecuteTime": {
     "end_time": "2017-12-16T12:11:12.707046Z",
     "start_time": "2017-12-16T12:11:12.693547Z"
    }
   },
   "outputs": [
    {
     "data": {
      "text/plain": [
       "Int64Index([1, 4, 6, 7], dtype='int64')"
      ]
     },
     "execution_count": 9,
     "metadata": {},
     "output_type": "execute_result"
    }
   ],
   "source": [
    "indA ^ indB"
   ]
  },
  {
   "cell_type": "markdown",
   "metadata": {},
   "source": [
    "## Сохранение и выравнивание индексов\n",
    "При выполнении операции над `Series` или `DataFrame` pandas сохраняет индексы и колонки исходных объектов"
   ]
  },
  {
   "cell_type": "code",
   "execution_count": 10,
   "metadata": {
    "ExecuteTime": {
     "end_time": "2017-12-16T12:11:12.727548Z",
     "start_time": "2017-12-16T12:11:12.708548Z"
    }
   },
   "outputs": [
    {
     "data": {
      "text/html": [
       "<div>\n",
       "<style>\n",
       "    .dataframe thead tr:only-child th {\n",
       "        text-align: right;\n",
       "    }\n",
       "\n",
       "    .dataframe thead th {\n",
       "        text-align: left;\n",
       "    }\n",
       "\n",
       "    .dataframe tbody tr th {\n",
       "        vertical-align: top;\n",
       "    }\n",
       "</style>\n",
       "<table border=\"1\" class=\"dataframe\">\n",
       "  <thead>\n",
       "    <tr style=\"text-align: right;\">\n",
       "      <th></th>\n",
       "      <th>A</th>\n",
       "      <th>B</th>\n",
       "      <th>C</th>\n",
       "    </tr>\n",
       "  </thead>\n",
       "  <tbody>\n",
       "    <tr>\n",
       "      <th>first</th>\n",
       "      <td>0</td>\n",
       "      <td>1</td>\n",
       "      <td>2</td>\n",
       "    </tr>\n",
       "    <tr>\n",
       "      <th>second</th>\n",
       "      <td>3</td>\n",
       "      <td>4</td>\n",
       "      <td>5</td>\n",
       "    </tr>\n",
       "    <tr>\n",
       "      <th>third</th>\n",
       "      <td>6</td>\n",
       "      <td>7</td>\n",
       "      <td>8</td>\n",
       "    </tr>\n",
       "  </tbody>\n",
       "</table>\n",
       "</div>"
      ],
      "text/plain": [
       "        A  B  C\n",
       "first   0  1  2\n",
       "second  3  4  5\n",
       "third   6  7  8"
      ]
     },
     "execution_count": 10,
     "metadata": {},
     "output_type": "execute_result"
    }
   ],
   "source": [
    "df = pd.DataFrame(np.arange(0, 9).reshape((3, 3)), \n",
    "                  columns=['A', 'B', 'C'], \n",
    "                  index=['first', 'second', 'third'])\n",
    "df"
   ]
  },
  {
   "cell_type": "code",
   "execution_count": 11,
   "metadata": {
    "ExecuteTime": {
     "end_time": "2017-12-16T12:11:12.750046Z",
     "start_time": "2017-12-16T12:11:12.729049Z"
    }
   },
   "outputs": [
    {
     "data": {
      "text/html": [
       "<div>\n",
       "<style>\n",
       "    .dataframe thead tr:only-child th {\n",
       "        text-align: right;\n",
       "    }\n",
       "\n",
       "    .dataframe thead th {\n",
       "        text-align: left;\n",
       "    }\n",
       "\n",
       "    .dataframe tbody tr th {\n",
       "        vertical-align: top;\n",
       "    }\n",
       "</style>\n",
       "<table border=\"1\" class=\"dataframe\">\n",
       "  <thead>\n",
       "    <tr style=\"text-align: right;\">\n",
       "      <th></th>\n",
       "      <th>A</th>\n",
       "      <th>B</th>\n",
       "      <th>C</th>\n",
       "    </tr>\n",
       "  </thead>\n",
       "  <tbody>\n",
       "    <tr>\n",
       "      <th>first</th>\n",
       "      <td>1.000000</td>\n",
       "      <td>2.718282</td>\n",
       "      <td>7.389056</td>\n",
       "    </tr>\n",
       "    <tr>\n",
       "      <th>second</th>\n",
       "      <td>20.085537</td>\n",
       "      <td>54.598150</td>\n",
       "      <td>148.413159</td>\n",
       "    </tr>\n",
       "    <tr>\n",
       "      <th>third</th>\n",
       "      <td>403.428793</td>\n",
       "      <td>1096.633158</td>\n",
       "      <td>2980.957987</td>\n",
       "    </tr>\n",
       "  </tbody>\n",
       "</table>\n",
       "</div>"
      ],
      "text/plain": [
       "                 A            B            C\n",
       "first     1.000000     2.718282     7.389056\n",
       "second   20.085537    54.598150   148.413159\n",
       "third   403.428793  1096.633158  2980.957987"
      ]
     },
     "execution_count": 11,
     "metadata": {},
     "output_type": "execute_result"
    }
   ],
   "source": [
    "np.exp(df)"
   ]
  },
  {
   "cell_type": "markdown",
   "metadata": {},
   "source": [
    "При выполнении бинарных операций индексы двух объектов выравниваются так, чтобы операция выполнялась над двумя соответствующими элементами. Создадим два объекта `Series` с одинаковыми индексами"
   ]
  },
  {
   "cell_type": "code",
   "execution_count": 12,
   "metadata": {
    "ExecuteTime": {
     "end_time": "2017-12-16T12:11:12.768548Z",
     "start_time": "2017-12-16T12:11:12.752050Z"
    },
    "collapsed": true
   },
   "outputs": [],
   "source": [
    "countries = ['Afghanistan', 'Kazakhstan', 'Kyrgyzstan', 'Tajikistan', 'Turkmenistan', 'Uzbekistan']\n",
    "area = [652864, 2724900, 199951, 143100, 491210, 448978]\n",
    "population = [34656032, 17987736, 6019480, 8734951, 5662544, 32979000]\n",
    "gdp = [21, 156.189, 7.061, 27.802, 42.355, 68.324]\n",
    "gini = [29, 26.4, 27.4, 30.8, 40.8, 36.7]"
   ]
  },
  {
   "cell_type": "code",
   "execution_count": 13,
   "metadata": {
    "ExecuteTime": {
     "end_time": "2017-12-16T12:11:12.789048Z",
     "start_time": "2017-12-16T12:11:12.770551Z"
    }
   },
   "outputs": [
    {
     "name": "stdout",
     "output_type": "stream",
     "text": [
      "Afghanistan      652864\n",
      "Kazakhstan      2724900\n",
      "Kyrgyzstan       199951\n",
      "Tajikistan       143100\n",
      "Turkmenistan     491210\n",
      "dtype: int64\n",
      "--------------------------\n",
      "Kazakhstan      17987736\n",
      "Kyrgyzstan       6019480\n",
      "Tajikistan       8734951\n",
      "Turkmenistan     5662544\n",
      "Uzbekistan      32979000\n",
      "dtype: int64\n"
     ]
    }
   ],
   "source": [
    "country_area = pd.Series(data=area[:-1], index=countries[:-1])\n",
    "country_population = pd.Series(data=population[1:], index=countries[1:])\n",
    "print(country_area)\n",
    "print('--------------------------')\n",
    "print(country_population)"
   ]
  },
  {
   "cell_type": "markdown",
   "metadata": {},
   "source": [
    "Если вычислить плотность населения из этих двух последовательностей, то pandas поделит территорию на количество населения соответствующей страны. При этом плотность населения для первой и последней страны будут пустыми, так как их нет одновременно в обоих последовательностях"
   ]
  },
  {
   "cell_type": "code",
   "execution_count": 14,
   "metadata": {
    "ExecuteTime": {
     "end_time": "2017-12-16T12:11:12.805549Z",
     "start_time": "2017-12-16T12:11:12.791049Z"
    }
   },
   "outputs": [
    {
     "data": {
      "text/plain": [
       "Afghanistan          NaN\n",
       "Kazakhstan      0.151487\n",
       "Kyrgyzstan      0.033217\n",
       "Tajikistan      0.016382\n",
       "Turkmenistan    0.086747\n",
       "Uzbekistan           NaN\n",
       "dtype: float64"
      ]
     },
     "execution_count": 14,
     "metadata": {},
     "output_type": "execute_result"
    }
   ],
   "source": [
    "country_area / country_population"
   ]
  },
  {
   "cell_type": "markdown",
   "metadata": {},
   "source": [
    "При работе с `DataFrame` выравниваются одновременно индексы и колонки"
   ]
  },
  {
   "cell_type": "code",
   "execution_count": 15,
   "metadata": {
    "ExecuteTime": {
     "end_time": "2017-12-16T12:11:12.824048Z",
     "start_time": "2017-12-16T12:11:12.807051Z"
    }
   },
   "outputs": [
    {
     "data": {
      "text/html": [
       "<div>\n",
       "<style>\n",
       "    .dataframe thead tr:only-child th {\n",
       "        text-align: right;\n",
       "    }\n",
       "\n",
       "    .dataframe thead th {\n",
       "        text-align: left;\n",
       "    }\n",
       "\n",
       "    .dataframe tbody tr th {\n",
       "        vertical-align: top;\n",
       "    }\n",
       "</style>\n",
       "<table border=\"1\" class=\"dataframe\">\n",
       "  <thead>\n",
       "    <tr style=\"text-align: right;\">\n",
       "      <th></th>\n",
       "      <th>A</th>\n",
       "      <th>B</th>\n",
       "    </tr>\n",
       "  </thead>\n",
       "  <tbody>\n",
       "    <tr>\n",
       "      <th>first</th>\n",
       "      <td>0</td>\n",
       "      <td>1</td>\n",
       "    </tr>\n",
       "    <tr>\n",
       "      <th>second</th>\n",
       "      <td>2</td>\n",
       "      <td>3</td>\n",
       "    </tr>\n",
       "  </tbody>\n",
       "</table>\n",
       "</div>"
      ],
      "text/plain": [
       "        A  B\n",
       "first   0  1\n",
       "second  2  3"
      ]
     },
     "execution_count": 15,
     "metadata": {},
     "output_type": "execute_result"
    }
   ],
   "source": [
    "A = pd.DataFrame(np.arange(0, 4).reshape(2, 2),\n",
    "                 columns=list('AB'),\n",
    "                index=['first', 'second'])\n",
    "A"
   ]
  },
  {
   "cell_type": "code",
   "execution_count": 16,
   "metadata": {
    "ExecuteTime": {
     "end_time": "2017-12-16T12:11:12.844046Z",
     "start_time": "2017-12-16T12:11:12.826048Z"
    }
   },
   "outputs": [
    {
     "data": {
      "text/html": [
       "<div>\n",
       "<style>\n",
       "    .dataframe thead tr:only-child th {\n",
       "        text-align: right;\n",
       "    }\n",
       "\n",
       "    .dataframe thead th {\n",
       "        text-align: left;\n",
       "    }\n",
       "\n",
       "    .dataframe tbody tr th {\n",
       "        vertical-align: top;\n",
       "    }\n",
       "</style>\n",
       "<table border=\"1\" class=\"dataframe\">\n",
       "  <thead>\n",
       "    <tr style=\"text-align: right;\">\n",
       "      <th></th>\n",
       "      <th>A</th>\n",
       "      <th>B</th>\n",
       "      <th>C</th>\n",
       "    </tr>\n",
       "  </thead>\n",
       "  <tbody>\n",
       "    <tr>\n",
       "      <th>first</th>\n",
       "      <td>5</td>\n",
       "      <td>6</td>\n",
       "      <td>7</td>\n",
       "    </tr>\n",
       "    <tr>\n",
       "      <th>second</th>\n",
       "      <td>8</td>\n",
       "      <td>9</td>\n",
       "      <td>10</td>\n",
       "    </tr>\n",
       "    <tr>\n",
       "      <th>third</th>\n",
       "      <td>11</td>\n",
       "      <td>12</td>\n",
       "      <td>13</td>\n",
       "    </tr>\n",
       "  </tbody>\n",
       "</table>\n",
       "</div>"
      ],
      "text/plain": [
       "         A   B   C\n",
       "first    5   6   7\n",
       "second   8   9  10\n",
       "third   11  12  13"
      ]
     },
     "execution_count": 16,
     "metadata": {},
     "output_type": "execute_result"
    }
   ],
   "source": [
    "B = pd.DataFrame(np.arange(5, 14).reshape(3, 3),\n",
    "                 columns=list('ABC'),\n",
    "                index=['first', 'second', 'third'])\n",
    "B"
   ]
  },
  {
   "cell_type": "code",
   "execution_count": 17,
   "metadata": {
    "ExecuteTime": {
     "end_time": "2017-12-16T12:11:12.865047Z",
     "start_time": "2017-12-16T12:11:12.846049Z"
    }
   },
   "outputs": [
    {
     "data": {
      "text/html": [
       "<div>\n",
       "<style>\n",
       "    .dataframe thead tr:only-child th {\n",
       "        text-align: right;\n",
       "    }\n",
       "\n",
       "    .dataframe thead th {\n",
       "        text-align: left;\n",
       "    }\n",
       "\n",
       "    .dataframe tbody tr th {\n",
       "        vertical-align: top;\n",
       "    }\n",
       "</style>\n",
       "<table border=\"1\" class=\"dataframe\">\n",
       "  <thead>\n",
       "    <tr style=\"text-align: right;\">\n",
       "      <th></th>\n",
       "      <th>A</th>\n",
       "      <th>B</th>\n",
       "      <th>C</th>\n",
       "    </tr>\n",
       "  </thead>\n",
       "  <tbody>\n",
       "    <tr>\n",
       "      <th>first</th>\n",
       "      <td>5.0</td>\n",
       "      <td>7.0</td>\n",
       "      <td>NaN</td>\n",
       "    </tr>\n",
       "    <tr>\n",
       "      <th>second</th>\n",
       "      <td>10.0</td>\n",
       "      <td>12.0</td>\n",
       "      <td>NaN</td>\n",
       "    </tr>\n",
       "    <tr>\n",
       "      <th>third</th>\n",
       "      <td>NaN</td>\n",
       "      <td>NaN</td>\n",
       "      <td>NaN</td>\n",
       "    </tr>\n",
       "  </tbody>\n",
       "</table>\n",
       "</div>"
      ],
      "text/plain": [
       "           A     B   C\n",
       "first    5.0   7.0 NaN\n",
       "second  10.0  12.0 NaN\n",
       "third    NaN   NaN NaN"
      ]
     },
     "execution_count": 17,
     "metadata": {},
     "output_type": "execute_result"
    }
   ],
   "source": [
    "A + B"
   ]
  },
  {
   "cell_type": "markdown",
   "metadata": {},
   "source": [
    "# Иерархические (множественные) индексы\n",
    "До сих пор мы рассматривали только одномерные и двухмерные структуры данных. Однако часто данные имеют больше, чем два измерения. В большинстве случаев время является дополнительным измерением в данных. Например, если представить организационную структуру, то в качестве измерений можно взять департамент, должности внутри департамента и время, когда должности занимали в данном департаменте. Чтобы работать с многомерными данными в pandas используется иерархические индексы, также называемые множественными индексами.\n",
    "\n",
    "Для знакомства с иерархическими индексами мы будем использовать данные Всемироного Банка. Их можно [скачать](http://databank.worldbank.org/data/reports.aspx?source=2&country=AFG,KAZ,KGZ,TJK,TKM,UZB) на сайте банка, где есть огромное количество фильтров, из которых можно составить нужную для себя информацию."
   ]
  },
  {
   "cell_type": "code",
   "execution_count": 18,
   "metadata": {
    "ExecuteTime": {
     "end_time": "2017-12-16T12:11:12.879047Z",
     "start_time": "2017-12-16T12:11:12.867048Z"
    },
    "collapsed": true
   },
   "outputs": [],
   "source": [
    "population = [33736494, 34656032, \n",
    "              17544126, 17797032, \n",
    "              5956900,  6082700, \n",
    "              8548651,  8734951, \n",
    "              5565284,  5662544, \n",
    "              31298900, 31848200]\n",
    "area = [652860,  652860, \n",
    "        2724902, 2724902, \n",
    "        199949,  199949, \n",
    "        141376,  141376, \n",
    "        488100,  488100, \n",
    "        447400,  447400]\n",
    "debt = [2487497000,   2403867000, \n",
    "        153381212000, 163757713000, \n",
    "        7510751000,   7876314000, \n",
    "        5001714000,   4876658000, \n",
    "        402877000,    508683000, \n",
    "        14854025000,  16282526000]\n",
    "countries = ['Afghanistan', 'Kazakhstan', 'Kyrgyzstan', 'Tajikistan', 'Turkmenistan', 'Uzbekistan']\n",
    "year = [2015, 2016]"
   ]
  },
  {
   "cell_type": "markdown",
   "metadata": {
    "ExecuteTime": {
     "end_time": "2017-12-12T15:51:03.097837Z",
     "start_time": "2017-12-12T15:51:03.078837Z"
    }
   },
   "source": [
    "Как многие другие объекты, множественные индексы в pandas можно создать различными способами. Один из способов создать список кортежей (tuples) со всемозможными парами годов и стран. Для этого воспользуемся функцией `product` из модуля `itertools`, которая создает такие пары значений (декартовое произведение для элементов множества)"
   ]
  },
  {
   "cell_type": "code",
   "execution_count": 19,
   "metadata": {
    "ExecuteTime": {
     "end_time": "2017-12-16T12:11:12.896547Z",
     "start_time": "2017-12-16T12:11:12.880550Z"
    }
   },
   "outputs": [
    {
     "data": {
      "text/plain": [
       "[('Afghanistan', 2015),\n",
       " ('Afghanistan', 2016),\n",
       " ('Kazakhstan', 2015),\n",
       " ('Kazakhstan', 2016),\n",
       " ('Kyrgyzstan', 2015),\n",
       " ('Kyrgyzstan', 2016),\n",
       " ('Tajikistan', 2015),\n",
       " ('Tajikistan', 2016),\n",
       " ('Turkmenistan', 2015),\n",
       " ('Turkmenistan', 2016),\n",
       " ('Uzbekistan', 2015),\n",
       " ('Uzbekistan', 2016)]"
      ]
     },
     "execution_count": 19,
     "metadata": {},
     "output_type": "execute_result"
    }
   ],
   "source": [
    "import itertools \n",
    "index = list(itertools.product(countries, year))\n",
    "index"
   ]
  },
  {
   "cell_type": "markdown",
   "metadata": {},
   "source": [
    "Из полученного списка можно создать множественный индекс с помощью объекта `pd.MultiIndex`"
   ]
  },
  {
   "cell_type": "code",
   "execution_count": 20,
   "metadata": {
    "ExecuteTime": {
     "end_time": "2017-12-16T12:11:12.914546Z",
     "start_time": "2017-12-16T12:11:12.898551Z"
    }
   },
   "outputs": [
    {
     "data": {
      "text/plain": [
       "MultiIndex(levels=[['Afghanistan', 'Kazakhstan', 'Kyrgyzstan', 'Tajikistan', 'Turkmenistan', 'Uzbekistan'], [2015, 2016]],\n",
       "           labels=[[0, 0, 1, 1, 2, 2, 3, 3, 4, 4, 5, 5], [0, 1, 0, 1, 0, 1, 0, 1, 0, 1, 0, 1]])"
      ]
     },
     "execution_count": 20,
     "metadata": {},
     "output_type": "execute_result"
    }
   ],
   "source": [
    "index = pd.MultiIndex.from_tuples(index)\n",
    "index"
   ]
  },
  {
   "cell_type": "markdown",
   "metadata": {},
   "source": [
    "Обратите внимание, что у индекса есть два атрибута: `levels` и `labels`. `levels` хранит значения, которые может принимать каждый из уровней индекса. `labels` хранит комбинацию значений каждого уровня, которое есть в наборе данных.\n",
    "\n",
    "В `pd.MultiIndex` есть готовый метод `from_product`, который принимает список значений для каждого уровня и сам комбинирует каждое значение каждого уровня с помощью декартового произведения. Можно использовать этот метод напрямую вместо `itertools.product`"
   ]
  },
  {
   "cell_type": "code",
   "execution_count": 21,
   "metadata": {
    "ExecuteTime": {
     "end_time": "2017-12-16T12:11:12.933548Z",
     "start_time": "2017-12-16T12:11:12.916548Z"
    }
   },
   "outputs": [
    {
     "data": {
      "text/plain": [
       "MultiIndex(levels=[['Afghanistan', 'Kazakhstan', 'Kyrgyzstan', 'Tajikistan', 'Turkmenistan', 'Uzbekistan'], [2015, 2016]],\n",
       "           labels=[[0, 0, 1, 1, 2, 2, 3, 3, 4, 4, 5, 5], [0, 1, 0, 1, 0, 1, 0, 1, 0, 1, 0, 1]],\n",
       "           names=['country', 'year'])"
      ]
     },
     "execution_count": 21,
     "metadata": {},
     "output_type": "execute_result"
    }
   ],
   "source": [
    "index = pd.MultiIndex.from_product([countries, year])\n",
    "index.names = ['country', 'year']\n",
    "index"
   ]
  },
  {
   "cell_type": "markdown",
   "metadata": {},
   "source": [
    "Полученный индекс можно передать для создания последовательности"
   ]
  },
  {
   "cell_type": "code",
   "execution_count": 22,
   "metadata": {
    "ExecuteTime": {
     "end_time": "2017-12-16T12:11:12.949049Z",
     "start_time": "2017-12-16T12:11:12.935550Z"
    }
   },
   "outputs": [
    {
     "data": {
      "text/plain": [
       "country       year\n",
       "Afghanistan   2015    33736494\n",
       "              2016    34656032\n",
       "Kazakhstan    2015    17544126\n",
       "              2016    17797032\n",
       "Kyrgyzstan    2015     5956900\n",
       "              2016     6082700\n",
       "Tajikistan    2015     8548651\n",
       "              2016     8734951\n",
       "Turkmenistan  2015     5565284\n",
       "              2016     5662544\n",
       "Uzbekistan    2015    31298900\n",
       "              2016    31848200\n",
       "dtype: int64"
      ]
     },
     "execution_count": 22,
     "metadata": {},
     "output_type": "execute_result"
    }
   ],
   "source": [
    "pop_series = pd.Series(population, index=index)\n",
    "pop_series"
   ]
  },
  {
   "cell_type": "markdown",
   "metadata": {},
   "source": [
    "Мы можем использовать множественный индекс для доступа к разным срезам данных. Например, можно вытащить все значения за 2015 год"
   ]
  },
  {
   "cell_type": "code",
   "execution_count": 23,
   "metadata": {
    "ExecuteTime": {
     "end_time": "2017-12-16T12:11:12.966049Z",
     "start_time": "2017-12-16T12:11:12.950548Z"
    },
    "scrolled": true
   },
   "outputs": [
    {
     "data": {
      "text/plain": [
       "country\n",
       "Afghanistan     33736494\n",
       "Kazakhstan      17544126\n",
       "Kyrgyzstan       5956900\n",
       "Tajikistan       8548651\n",
       "Turkmenistan     5565284\n",
       "Uzbekistan      31298900\n",
       "dtype: int64"
      ]
     },
     "execution_count": 23,
     "metadata": {},
     "output_type": "execute_result"
    }
   ],
   "source": [
    "pop_series.loc[:, 2015]"
   ]
  },
  {
   "cell_type": "markdown",
   "metadata": {
    "ExecuteTime": {
     "end_time": "2017-12-13T16:34:01.675823Z",
     "start_time": "2017-12-13T16:34:01.670825Z"
    }
   },
   "source": [
    "Или значения по всем годам для одной страны"
   ]
  },
  {
   "cell_type": "code",
   "execution_count": 24,
   "metadata": {
    "ExecuteTime": {
     "end_time": "2017-12-16T12:11:12.984050Z",
     "start_time": "2017-12-16T12:11:12.967550Z"
    }
   },
   "outputs": [
    {
     "data": {
      "text/plain": [
       "country     year\n",
       "Uzbekistan  2015    31298900\n",
       "            2016    31848200\n",
       "dtype: int64"
      ]
     },
     "execution_count": 24,
     "metadata": {},
     "output_type": "execute_result"
    }
   ],
   "source": [
    "pop_series.loc['Uzbekistan', :]"
   ]
  },
  {
   "cell_type": "markdown",
   "metadata": {},
   "source": [
    "С помощью метода `unstack` можно превратить последний вложенный уровень индекса в колонки и из одномерного `Series` получить двухмерных `DataFrame`"
   ]
  },
  {
   "cell_type": "code",
   "execution_count": 25,
   "metadata": {
    "ExecuteTime": {
     "end_time": "2017-12-16T12:11:13.007048Z",
     "start_time": "2017-12-16T12:11:12.986050Z"
    }
   },
   "outputs": [
    {
     "data": {
      "text/html": [
       "<div>\n",
       "<style>\n",
       "    .dataframe thead tr:only-child th {\n",
       "        text-align: right;\n",
       "    }\n",
       "\n",
       "    .dataframe thead th {\n",
       "        text-align: left;\n",
       "    }\n",
       "\n",
       "    .dataframe tbody tr th {\n",
       "        vertical-align: top;\n",
       "    }\n",
       "</style>\n",
       "<table border=\"1\" class=\"dataframe\">\n",
       "  <thead>\n",
       "    <tr style=\"text-align: right;\">\n",
       "      <th>year</th>\n",
       "      <th>2015</th>\n",
       "      <th>2016</th>\n",
       "    </tr>\n",
       "    <tr>\n",
       "      <th>country</th>\n",
       "      <th></th>\n",
       "      <th></th>\n",
       "    </tr>\n",
       "  </thead>\n",
       "  <tbody>\n",
       "    <tr>\n",
       "      <th>Afghanistan</th>\n",
       "      <td>33736494</td>\n",
       "      <td>34656032</td>\n",
       "    </tr>\n",
       "    <tr>\n",
       "      <th>Kazakhstan</th>\n",
       "      <td>17544126</td>\n",
       "      <td>17797032</td>\n",
       "    </tr>\n",
       "    <tr>\n",
       "      <th>Kyrgyzstan</th>\n",
       "      <td>5956900</td>\n",
       "      <td>6082700</td>\n",
       "    </tr>\n",
       "    <tr>\n",
       "      <th>Tajikistan</th>\n",
       "      <td>8548651</td>\n",
       "      <td>8734951</td>\n",
       "    </tr>\n",
       "    <tr>\n",
       "      <th>Turkmenistan</th>\n",
       "      <td>5565284</td>\n",
       "      <td>5662544</td>\n",
       "    </tr>\n",
       "    <tr>\n",
       "      <th>Uzbekistan</th>\n",
       "      <td>31298900</td>\n",
       "      <td>31848200</td>\n",
       "    </tr>\n",
       "  </tbody>\n",
       "</table>\n",
       "</div>"
      ],
      "text/plain": [
       "year              2015      2016\n",
       "country                         \n",
       "Afghanistan   33736494  34656032\n",
       "Kazakhstan    17544126  17797032\n",
       "Kyrgyzstan     5956900   6082700\n",
       "Tajikistan     8548651   8734951\n",
       "Turkmenistan   5565284   5662544\n",
       "Uzbekistan    31298900  31848200"
      ]
     },
     "execution_count": 25,
     "metadata": {},
     "output_type": "execute_result"
    }
   ],
   "source": [
    "pop_df = pop_series.unstack()\n",
    "pop_df"
   ]
  },
  {
   "cell_type": "markdown",
   "metadata": {},
   "source": [
    "Метод `stack` является обратным методу `unstack` и превращает колонки в последний уровень множественного индекса"
   ]
  },
  {
   "cell_type": "code",
   "execution_count": 26,
   "metadata": {
    "ExecuteTime": {
     "end_time": "2017-12-16T12:11:13.024046Z",
     "start_time": "2017-12-16T12:11:13.008551Z"
    }
   },
   "outputs": [
    {
     "data": {
      "text/plain": [
       "country       year\n",
       "Afghanistan   2015    33736494\n",
       "              2016    34656032\n",
       "Kazakhstan    2015    17544126\n",
       "              2016    17797032\n",
       "Kyrgyzstan    2015     5956900\n",
       "              2016     6082700\n",
       "Tajikistan    2015     8548651\n",
       "              2016     8734951\n",
       "Turkmenistan  2015     5565284\n",
       "              2016     5662544\n",
       "Uzbekistan    2015    31298900\n",
       "              2016    31848200\n",
       "dtype: int64"
      ]
     },
     "execution_count": 26,
     "metadata": {},
     "output_type": "execute_result"
    }
   ],
   "source": [
    "pop_df.stack()"
   ]
  },
  {
   "cell_type": "markdown",
   "metadata": {},
   "source": [
    "## Иерархические колонки\n",
    "Точно так же как и индексы, колонки `DataFrame` могут быть многоуровневыми. Комбинирование иерархических колонок с индексами позволяет анализировать сложные структуры данных.\n",
    "\n",
    "В этом примере рассмотрим различные этапы в процессе разработки ПО. Команда состоит из трех независимых групп: *Backend, Frontend, Mobile*. Каждая задача проходит четыре этапа от начала до завершения: *Backlog, Development, QA, Release*. Задача может относится к одному из типов: *Bug, Imporvement, Feature*. По срочности выполнения задача может быть *Urgent* или *Normal*. Значения в ячейках таблицы указывают количество задач. Мы будем использовать названия групп и типы задач в качестве уровней иерархических индексов, а этапы и срочность задач в качестве уровней иерархических колонок. В результате мы получим таблицу размером 9 × 8"
   ]
  },
  {
   "cell_type": "code",
   "execution_count": 28,
   "metadata": {
    "ExecuteTime": {
     "end_time": "2017-12-16T12:11:13.078549Z",
     "start_time": "2017-12-16T12:11:13.051050Z"
    },
    "scrolled": true
   },
   "outputs": [
    {
     "data": {
      "text/html": [
       "<div>\n",
       "<style>\n",
       "    .dataframe thead tr:only-child th {\n",
       "        text-align: right;\n",
       "    }\n",
       "\n",
       "    .dataframe thead th {\n",
       "        text-align: left;\n",
       "    }\n",
       "\n",
       "    .dataframe tbody tr th {\n",
       "        vertical-align: top;\n",
       "    }\n",
       "</style>\n",
       "<table border=\"1\" class=\"dataframe\">\n",
       "  <thead>\n",
       "    <tr>\n",
       "      <th></th>\n",
       "      <th>stages</th>\n",
       "      <th colspan=\"2\" halign=\"left\">Backlog</th>\n",
       "      <th colspan=\"2\" halign=\"left\">Development</th>\n",
       "      <th colspan=\"2\" halign=\"left\">QA</th>\n",
       "      <th colspan=\"2\" halign=\"left\">Release</th>\n",
       "    </tr>\n",
       "    <tr>\n",
       "      <th></th>\n",
       "      <th>urgency</th>\n",
       "      <th>Normal</th>\n",
       "      <th>Urgent</th>\n",
       "      <th>Normal</th>\n",
       "      <th>Urgent</th>\n",
       "      <th>Normal</th>\n",
       "      <th>Urgent</th>\n",
       "      <th>Normal</th>\n",
       "      <th>Urgent</th>\n",
       "    </tr>\n",
       "    <tr>\n",
       "      <th>teams</th>\n",
       "      <th>type</th>\n",
       "      <th></th>\n",
       "      <th></th>\n",
       "      <th></th>\n",
       "      <th></th>\n",
       "      <th></th>\n",
       "      <th></th>\n",
       "      <th></th>\n",
       "      <th></th>\n",
       "    </tr>\n",
       "  </thead>\n",
       "  <tbody>\n",
       "    <tr>\n",
       "      <th rowspan=\"3\" valign=\"top\">Backend</th>\n",
       "      <th>Bug</th>\n",
       "      <td>0</td>\n",
       "      <td>0</td>\n",
       "      <td>0</td>\n",
       "      <td>0</td>\n",
       "      <td>0</td>\n",
       "      <td>2</td>\n",
       "      <td>0</td>\n",
       "      <td>0</td>\n",
       "    </tr>\n",
       "    <tr>\n",
       "      <th>Improvement</th>\n",
       "      <td>4</td>\n",
       "      <td>2</td>\n",
       "      <td>0</td>\n",
       "      <td>0</td>\n",
       "      <td>0</td>\n",
       "      <td>0</td>\n",
       "      <td>0</td>\n",
       "      <td>0</td>\n",
       "    </tr>\n",
       "    <tr>\n",
       "      <th>Feature</th>\n",
       "      <td>0</td>\n",
       "      <td>3</td>\n",
       "      <td>4</td>\n",
       "      <td>0</td>\n",
       "      <td>0</td>\n",
       "      <td>0</td>\n",
       "      <td>0</td>\n",
       "      <td>3</td>\n",
       "    </tr>\n",
       "    <tr>\n",
       "      <th rowspan=\"3\" valign=\"top\">Frontend</th>\n",
       "      <th>Bug</th>\n",
       "      <td>0</td>\n",
       "      <td>0</td>\n",
       "      <td>4</td>\n",
       "      <td>0</td>\n",
       "      <td>1</td>\n",
       "      <td>0</td>\n",
       "      <td>2</td>\n",
       "      <td>2</td>\n",
       "    </tr>\n",
       "    <tr>\n",
       "      <th>Improvement</th>\n",
       "      <td>0</td>\n",
       "      <td>0</td>\n",
       "      <td>0</td>\n",
       "      <td>0</td>\n",
       "      <td>0</td>\n",
       "      <td>0</td>\n",
       "      <td>0</td>\n",
       "      <td>0</td>\n",
       "    </tr>\n",
       "    <tr>\n",
       "      <th>Feature</th>\n",
       "      <td>0</td>\n",
       "      <td>0</td>\n",
       "      <td>0</td>\n",
       "      <td>0</td>\n",
       "      <td>0</td>\n",
       "      <td>4</td>\n",
       "      <td>0</td>\n",
       "      <td>0</td>\n",
       "    </tr>\n",
       "    <tr>\n",
       "      <th rowspan=\"3\" valign=\"top\">Mobile</th>\n",
       "      <th>Bug</th>\n",
       "      <td>3</td>\n",
       "      <td>0</td>\n",
       "      <td>0</td>\n",
       "      <td>0</td>\n",
       "      <td>0</td>\n",
       "      <td>0</td>\n",
       "      <td>0</td>\n",
       "      <td>0</td>\n",
       "    </tr>\n",
       "    <tr>\n",
       "      <th>Improvement</th>\n",
       "      <td>0</td>\n",
       "      <td>0</td>\n",
       "      <td>0</td>\n",
       "      <td>2</td>\n",
       "      <td>3</td>\n",
       "      <td>0</td>\n",
       "      <td>3</td>\n",
       "      <td>0</td>\n",
       "    </tr>\n",
       "    <tr>\n",
       "      <th>Feature</th>\n",
       "      <td>0</td>\n",
       "      <td>0</td>\n",
       "      <td>0</td>\n",
       "      <td>3</td>\n",
       "      <td>0</td>\n",
       "      <td>0</td>\n",
       "      <td>0</td>\n",
       "      <td>0</td>\n",
       "    </tr>\n",
       "  </tbody>\n",
       "</table>\n",
       "</div>"
      ],
      "text/plain": [
       "stages               Backlog        Development            QA        Release  \\\n",
       "urgency               Normal Urgent      Normal Urgent Normal Urgent  Normal   \n",
       "teams    type                                                                  \n",
       "Backend  Bug               0      0           0      0      0      2       0   \n",
       "         Improvement       4      2           0      0      0      0       0   \n",
       "         Feature           0      3           4      0      0      0       0   \n",
       "Frontend Bug               0      0           4      0      1      0       2   \n",
       "         Improvement       0      0           0      0      0      0       0   \n",
       "         Feature           0      0           0      0      0      4       0   \n",
       "Mobile   Bug               3      0           0      0      0      0       0   \n",
       "         Improvement       0      0           0      2      3      0       3   \n",
       "         Feature           0      0           0      3      0      0       0   \n",
       "\n",
       "stages                       \n",
       "urgency              Urgent  \n",
       "teams    type                \n",
       "Backend  Bug              0  \n",
       "         Improvement      0  \n",
       "         Feature          3  \n",
       "Frontend Bug              2  \n",
       "         Improvement      0  \n",
       "         Feature          0  \n",
       "Mobile   Bug              0  \n",
       "         Improvement      0  \n",
       "         Feature          0  "
      ]
     },
     "execution_count": 28,
     "metadata": {},
     "output_type": "execute_result"
    }
   ],
   "source": [
    "teams = ['Backend', 'Frontend', 'Mobile']\n",
    "task_types = ['Bug', 'Improvement', 'Feature']\n",
    "stages = ['Backlog', 'Development', 'QA', 'Release']\n",
    "urgency = ['Normal', 'Urgent']\n",
    "\n",
    "index = pd.MultiIndex.from_product([teams, task_types],\n",
    "                                   names=['teams', 'type'])\n",
    "columns = pd.MultiIndex.from_product([stages, urgency],\n",
    "                                     names=['stages', 'urgency'])\n",
    "tasks = np.random.randint(1, 5, size=(9, 8))\n",
    "tasks[np.random.rand(9, 8).argsort(0) > 1] = 0\n",
    "process_board_df = pd.DataFrame(tasks, index=index, columns=columns)\n",
    "process_board_df"
   ]
  },
  {
   "cell_type": "markdown",
   "metadata": {},
   "source": [
    "Мы можем посмотреть все задачи в Backlog следующим образом"
   ]
  },
  {
   "cell_type": "code",
   "execution_count": 29,
   "metadata": {
    "ExecuteTime": {
     "end_time": "2017-12-16T12:11:13.100548Z",
     "start_time": "2017-12-16T12:11:13.080550Z"
    },
    "scrolled": true
   },
   "outputs": [
    {
     "data": {
      "text/html": [
       "<div>\n",
       "<style>\n",
       "    .dataframe thead tr:only-child th {\n",
       "        text-align: right;\n",
       "    }\n",
       "\n",
       "    .dataframe thead th {\n",
       "        text-align: left;\n",
       "    }\n",
       "\n",
       "    .dataframe tbody tr th {\n",
       "        vertical-align: top;\n",
       "    }\n",
       "</style>\n",
       "<table border=\"1\" class=\"dataframe\">\n",
       "  <thead>\n",
       "    <tr style=\"text-align: right;\">\n",
       "      <th></th>\n",
       "      <th>urgency</th>\n",
       "      <th>Normal</th>\n",
       "      <th>Urgent</th>\n",
       "    </tr>\n",
       "    <tr>\n",
       "      <th>teams</th>\n",
       "      <th>type</th>\n",
       "      <th></th>\n",
       "      <th></th>\n",
       "    </tr>\n",
       "  </thead>\n",
       "  <tbody>\n",
       "    <tr>\n",
       "      <th rowspan=\"3\" valign=\"top\">Backend</th>\n",
       "      <th>Bug</th>\n",
       "      <td>0</td>\n",
       "      <td>0</td>\n",
       "    </tr>\n",
       "    <tr>\n",
       "      <th>Improvement</th>\n",
       "      <td>4</td>\n",
       "      <td>2</td>\n",
       "    </tr>\n",
       "    <tr>\n",
       "      <th>Feature</th>\n",
       "      <td>0</td>\n",
       "      <td>3</td>\n",
       "    </tr>\n",
       "    <tr>\n",
       "      <th rowspan=\"3\" valign=\"top\">Frontend</th>\n",
       "      <th>Bug</th>\n",
       "      <td>0</td>\n",
       "      <td>0</td>\n",
       "    </tr>\n",
       "    <tr>\n",
       "      <th>Improvement</th>\n",
       "      <td>0</td>\n",
       "      <td>0</td>\n",
       "    </tr>\n",
       "    <tr>\n",
       "      <th>Feature</th>\n",
       "      <td>0</td>\n",
       "      <td>0</td>\n",
       "    </tr>\n",
       "    <tr>\n",
       "      <th rowspan=\"3\" valign=\"top\">Mobile</th>\n",
       "      <th>Bug</th>\n",
       "      <td>3</td>\n",
       "      <td>0</td>\n",
       "    </tr>\n",
       "    <tr>\n",
       "      <th>Improvement</th>\n",
       "      <td>0</td>\n",
       "      <td>0</td>\n",
       "    </tr>\n",
       "    <tr>\n",
       "      <th>Feature</th>\n",
       "      <td>0</td>\n",
       "      <td>0</td>\n",
       "    </tr>\n",
       "  </tbody>\n",
       "</table>\n",
       "</div>"
      ],
      "text/plain": [
       "urgency               Normal  Urgent\n",
       "teams    type                       \n",
       "Backend  Bug               0       0\n",
       "         Improvement       4       2\n",
       "         Feature           0       3\n",
       "Frontend Bug               0       0\n",
       "         Improvement       0       0\n",
       "         Feature           0       0\n",
       "Mobile   Bug               3       0\n",
       "         Improvement       0       0\n",
       "         Feature           0       0"
      ]
     },
     "execution_count": 29,
     "metadata": {},
     "output_type": "execute_result"
    }
   ],
   "source": [
    "process_board_df['Backlog']"
   ]
  },
  {
   "cell_type": "markdown",
   "metadata": {},
   "source": [
    "Или только Urgent задачи в этапе Development. При этом мы получим `Series`, так как данные будут одномерными с иерархическим индексом"
   ]
  },
  {
   "cell_type": "code",
   "execution_count": 30,
   "metadata": {
    "ExecuteTime": {
     "end_time": "2017-12-16T12:11:13.117546Z",
     "start_time": "2017-12-16T12:11:13.102551Z"
    }
   },
   "outputs": [
    {
     "data": {
      "text/plain": [
       "teams     type       \n",
       "Backend   Bug            0\n",
       "          Improvement    0\n",
       "          Feature        0\n",
       "Frontend  Bug            0\n",
       "          Improvement    0\n",
       "          Feature        0\n",
       "Mobile    Bug            0\n",
       "          Improvement    2\n",
       "          Feature        3\n",
       "Name: (Development, Urgent), dtype: int32"
      ]
     },
     "execution_count": 30,
     "metadata": {},
     "output_type": "execute_result"
    }
   ],
   "source": [
    "process_board_df['Development', 'Urgent']"
   ]
  },
  {
   "cell_type": "markdown",
   "metadata": {},
   "source": [
    "Для выбора по индексам нужно использовать атрибут `loc`. Например, для выбора всех задач в Backend можно поступить следующим образом"
   ]
  },
  {
   "cell_type": "code",
   "execution_count": 31,
   "metadata": {
    "ExecuteTime": {
     "end_time": "2017-12-16T12:11:13.143548Z",
     "start_time": "2017-12-16T12:11:13.119050Z"
    }
   },
   "outputs": [
    {
     "data": {
      "text/html": [
       "<div>\n",
       "<style>\n",
       "    .dataframe thead tr:only-child th {\n",
       "        text-align: right;\n",
       "    }\n",
       "\n",
       "    .dataframe thead th {\n",
       "        text-align: left;\n",
       "    }\n",
       "\n",
       "    .dataframe tbody tr th {\n",
       "        vertical-align: top;\n",
       "    }\n",
       "</style>\n",
       "<table border=\"1\" class=\"dataframe\">\n",
       "  <thead>\n",
       "    <tr>\n",
       "      <th>stages</th>\n",
       "      <th colspan=\"2\" halign=\"left\">Backlog</th>\n",
       "      <th colspan=\"2\" halign=\"left\">Development</th>\n",
       "      <th colspan=\"2\" halign=\"left\">QA</th>\n",
       "      <th colspan=\"2\" halign=\"left\">Release</th>\n",
       "    </tr>\n",
       "    <tr>\n",
       "      <th>urgency</th>\n",
       "      <th>Normal</th>\n",
       "      <th>Urgent</th>\n",
       "      <th>Normal</th>\n",
       "      <th>Urgent</th>\n",
       "      <th>Normal</th>\n",
       "      <th>Urgent</th>\n",
       "      <th>Normal</th>\n",
       "      <th>Urgent</th>\n",
       "    </tr>\n",
       "    <tr>\n",
       "      <th>type</th>\n",
       "      <th></th>\n",
       "      <th></th>\n",
       "      <th></th>\n",
       "      <th></th>\n",
       "      <th></th>\n",
       "      <th></th>\n",
       "      <th></th>\n",
       "      <th></th>\n",
       "    </tr>\n",
       "  </thead>\n",
       "  <tbody>\n",
       "    <tr>\n",
       "      <th>Bug</th>\n",
       "      <td>0</td>\n",
       "      <td>0</td>\n",
       "      <td>0</td>\n",
       "      <td>0</td>\n",
       "      <td>0</td>\n",
       "      <td>2</td>\n",
       "      <td>0</td>\n",
       "      <td>0</td>\n",
       "    </tr>\n",
       "    <tr>\n",
       "      <th>Improvement</th>\n",
       "      <td>4</td>\n",
       "      <td>2</td>\n",
       "      <td>0</td>\n",
       "      <td>0</td>\n",
       "      <td>0</td>\n",
       "      <td>0</td>\n",
       "      <td>0</td>\n",
       "      <td>0</td>\n",
       "    </tr>\n",
       "    <tr>\n",
       "      <th>Feature</th>\n",
       "      <td>0</td>\n",
       "      <td>3</td>\n",
       "      <td>4</td>\n",
       "      <td>0</td>\n",
       "      <td>0</td>\n",
       "      <td>0</td>\n",
       "      <td>0</td>\n",
       "      <td>3</td>\n",
       "    </tr>\n",
       "  </tbody>\n",
       "</table>\n",
       "</div>"
      ],
      "text/plain": [
       "stages      Backlog        Development            QA        Release       \n",
       "urgency      Normal Urgent      Normal Urgent Normal Urgent  Normal Urgent\n",
       "type                                                                      \n",
       "Bug               0      0           0      0      0      2       0      0\n",
       "Improvement       4      2           0      0      0      0       0      0\n",
       "Feature           0      3           4      0      0      0       0      3"
      ]
     },
     "execution_count": 31,
     "metadata": {},
     "output_type": "execute_result"
    }
   ],
   "source": [
    "process_board_df.loc['Backend']"
   ]
  },
  {
   "cell_type": "markdown",
   "metadata": {},
   "source": [
    "Для комбинированного выбора иерархических индексов с колонками необходимо использовать кортежи (`tuples`). Первый кортеж перечисляет значения для выбора на каждом уровне иерархического индекса, второй кортеж для выбора на каждом уровне иерархических колонок. Ниже приведен пример выбора задач в группе Backend с типом Bug и в этапах Development или QA. Так как мы оставили уровень для срочности задачи пустым, то выводятся задачи любой срочности"
   ]
  },
  {
   "cell_type": "code",
   "execution_count": 32,
   "metadata": {
    "ExecuteTime": {
     "end_time": "2017-12-16T12:11:13.162047Z",
     "start_time": "2017-12-16T12:11:13.145550Z"
    }
   },
   "outputs": [
    {
     "data": {
      "text/plain": [
       "stages       urgency\n",
       "Development  Normal     0\n",
       "             Urgent     0\n",
       "QA           Normal     0\n",
       "             Urgent     2\n",
       "Name: (Backend, Bug), dtype: int32"
      ]
     },
     "execution_count": 32,
     "metadata": {},
     "output_type": "execute_result"
    }
   ],
   "source": [
    "process_board_df.loc[('Backend','Bug'), (['Development', 'QA'], )]"
   ]
  },
  {
   "cell_type": "markdown",
   "metadata": {},
   "source": [
    "Можно использовать срезы для выбора данных. Например, следующим образом можно вытащить задачи во всех этапах в группе Backend с типом Bug."
   ]
  },
  {
   "cell_type": "code",
   "execution_count": 33,
   "metadata": {
    "ExecuteTime": {
     "end_time": "2017-12-16T12:11:13.179047Z",
     "start_time": "2017-12-16T12:11:13.164046Z"
    }
   },
   "outputs": [
    {
     "data": {
      "text/plain": [
       "stages       urgency\n",
       "Backlog      Normal     0\n",
       "             Urgent     0\n",
       "Development  Normal     0\n",
       "             Urgent     0\n",
       "QA           Normal     0\n",
       "             Urgent     2\n",
       "Release      Normal     0\n",
       "             Urgent     0\n",
       "Name: (Backend, Bug), dtype: int32"
      ]
     },
     "execution_count": 33,
     "metadata": {},
     "output_type": "execute_result"
    }
   ],
   "source": [
    "process_board_df.loc[('Backend','Bug'), :]"
   ]
  },
  {
   "cell_type": "markdown",
   "metadata": {
    "ExecuteTime": {
     "end_time": "2017-12-16T11:15:40.215533Z",
     "start_time": "2017-12-16T11:15:40.210531Z"
    }
   },
   "source": [
    "Пример выше вытаскивает все колонки. Однако этот синтаксис нельзя использовать для выбора по срезу только по определенному уровню. Например, если нужно вытащить все Normal задачи во всех этапах в Backend, то следующий код не будет работать, так как это синтаксическая ошибка"
   ]
  },
  {
   "cell_type": "code",
   "execution_count": 34,
   "metadata": {
    "ExecuteTime": {
     "end_time": "2017-12-16T12:11:13.193546Z",
     "start_time": "2017-12-16T12:11:13.180549Z"
    }
   },
   "outputs": [
    {
     "ename": "SyntaxError",
     "evalue": "invalid syntax (<ipython-input-34-111656d72b82>, line 1)",
     "output_type": "error",
     "traceback": [
      "\u001b[1;36m  File \u001b[1;32m\"<ipython-input-34-111656d72b82>\"\u001b[1;36m, line \u001b[1;32m1\u001b[0m\n\u001b[1;33m    process_board_df.loc[('Backend',), (:, 'Normal')]\u001b[0m\n\u001b[1;37m                                        ^\u001b[0m\n\u001b[1;31mSyntaxError\u001b[0m\u001b[1;31m:\u001b[0m invalid syntax\n"
     ]
    }
   ],
   "source": [
    "process_board_df.loc[('Backend',), (:, 'Normal')]"
   ]
  },
  {
   "cell_type": "markdown",
   "metadata": {},
   "source": [
    "Чтобы этого добиться в pandas есть специальный объект `pd.IndexSlice`, который используется для получения срезов разных уровней иерархических индексов"
   ]
  },
  {
   "cell_type": "code",
   "execution_count": 35,
   "metadata": {
    "ExecuteTime": {
     "end_time": "2017-12-16T12:11:20.012039Z",
     "start_time": "2017-12-16T12:11:19.999538Z"
    }
   },
   "outputs": [
    {
     "data": {
      "text/html": [
       "<div>\n",
       "<style>\n",
       "    .dataframe thead tr:only-child th {\n",
       "        text-align: right;\n",
       "    }\n",
       "\n",
       "    .dataframe thead th {\n",
       "        text-align: left;\n",
       "    }\n",
       "\n",
       "    .dataframe tbody tr th {\n",
       "        vertical-align: top;\n",
       "    }\n",
       "</style>\n",
       "<table border=\"1\" class=\"dataframe\">\n",
       "  <thead>\n",
       "    <tr>\n",
       "      <th>stages</th>\n",
       "      <th>Backlog</th>\n",
       "      <th>Development</th>\n",
       "      <th>QA</th>\n",
       "      <th>Release</th>\n",
       "    </tr>\n",
       "    <tr>\n",
       "      <th>urgency</th>\n",
       "      <th>Normal</th>\n",
       "      <th>Normal</th>\n",
       "      <th>Normal</th>\n",
       "      <th>Normal</th>\n",
       "    </tr>\n",
       "    <tr>\n",
       "      <th>type</th>\n",
       "      <th></th>\n",
       "      <th></th>\n",
       "      <th></th>\n",
       "      <th></th>\n",
       "    </tr>\n",
       "  </thead>\n",
       "  <tbody>\n",
       "    <tr>\n",
       "      <th>Bug</th>\n",
       "      <td>0</td>\n",
       "      <td>0</td>\n",
       "      <td>0</td>\n",
       "      <td>0</td>\n",
       "    </tr>\n",
       "    <tr>\n",
       "      <th>Improvement</th>\n",
       "      <td>4</td>\n",
       "      <td>0</td>\n",
       "      <td>0</td>\n",
       "      <td>0</td>\n",
       "    </tr>\n",
       "    <tr>\n",
       "      <th>Feature</th>\n",
       "      <td>0</td>\n",
       "      <td>4</td>\n",
       "      <td>0</td>\n",
       "      <td>0</td>\n",
       "    </tr>\n",
       "  </tbody>\n",
       "</table>\n",
       "</div>"
      ],
      "text/plain": [
       "stages      Backlog Development     QA Release\n",
       "urgency      Normal      Normal Normal  Normal\n",
       "type                                          \n",
       "Bug               0           0      0       0\n",
       "Improvement       4           0      0       0\n",
       "Feature           0           4      0       0"
      ]
     },
     "execution_count": 35,
     "metadata": {},
     "output_type": "execute_result"
    }
   ],
   "source": [
    "idx = pd.IndexSlice\n",
    "process_board_df.loc[('Backend',), (idx[:], 'Normal')]"
   ]
  },
  {
   "cell_type": "markdown",
   "metadata": {},
   "source": [
    "Срезы в иерархических индексах работают только для отсортированных уровней. В нашем примере значения типов задач Bug, Imporvement, Feature не отсортированы в алфавитном порядке. Если попробовать использовать срезы для этого уровня, то мы получим ошибку"
   ]
  },
  {
   "cell_type": "code",
   "execution_count": 36,
   "metadata": {
    "ExecuteTime": {
     "end_time": "2017-12-16T12:11:21.668125Z",
     "start_time": "2017-12-16T12:11:21.662624Z"
    }
   },
   "outputs": [
    {
     "name": "stdout",
     "output_type": "stream",
     "text": [
      "<class 'pandas.errors.UnsortedIndexError'>\n",
      "'MultiIndex Slicing requires the index to be fully lexsorted tuple len (2), lexsort depth (1)'\n"
     ]
    }
   ],
   "source": [
    "try:\n",
    "    process_board_df.loc[('Mobile', idx[:]), :]\n",
    "except Exception as e:\n",
    "    print(type(e))\n",
    "    print(e)"
   ]
  },
  {
   "cell_type": "markdown",
   "metadata": {},
   "source": [
    "Чтобы добиться того, что мы хотим, необходимо отсортировать данные по индексу. Для этого есть метод `sort_index`"
   ]
  },
  {
   "cell_type": "code",
   "execution_count": 37,
   "metadata": {
    "ExecuteTime": {
     "end_time": "2017-12-16T12:11:22.226253Z",
     "start_time": "2017-12-16T12:11:22.210752Z"
    }
   },
   "outputs": [
    {
     "data": {
      "text/html": [
       "<div>\n",
       "<style>\n",
       "    .dataframe thead tr:only-child th {\n",
       "        text-align: right;\n",
       "    }\n",
       "\n",
       "    .dataframe thead th {\n",
       "        text-align: left;\n",
       "    }\n",
       "\n",
       "    .dataframe tbody tr th {\n",
       "        vertical-align: top;\n",
       "    }\n",
       "</style>\n",
       "<table border=\"1\" class=\"dataframe\">\n",
       "  <thead>\n",
       "    <tr>\n",
       "      <th></th>\n",
       "      <th>stages</th>\n",
       "      <th colspan=\"2\" halign=\"left\">Backlog</th>\n",
       "      <th colspan=\"2\" halign=\"left\">Development</th>\n",
       "      <th colspan=\"2\" halign=\"left\">QA</th>\n",
       "      <th colspan=\"2\" halign=\"left\">Release</th>\n",
       "    </tr>\n",
       "    <tr>\n",
       "      <th></th>\n",
       "      <th>urgency</th>\n",
       "      <th>Normal</th>\n",
       "      <th>Urgent</th>\n",
       "      <th>Normal</th>\n",
       "      <th>Urgent</th>\n",
       "      <th>Normal</th>\n",
       "      <th>Urgent</th>\n",
       "      <th>Normal</th>\n",
       "      <th>Urgent</th>\n",
       "    </tr>\n",
       "    <tr>\n",
       "      <th>teams</th>\n",
       "      <th>type</th>\n",
       "      <th></th>\n",
       "      <th></th>\n",
       "      <th></th>\n",
       "      <th></th>\n",
       "      <th></th>\n",
       "      <th></th>\n",
       "      <th></th>\n",
       "      <th></th>\n",
       "    </tr>\n",
       "  </thead>\n",
       "  <tbody>\n",
       "    <tr>\n",
       "      <th rowspan=\"3\" valign=\"top\">Mobile</th>\n",
       "      <th>Bug</th>\n",
       "      <td>3</td>\n",
       "      <td>0</td>\n",
       "      <td>0</td>\n",
       "      <td>0</td>\n",
       "      <td>0</td>\n",
       "      <td>0</td>\n",
       "      <td>0</td>\n",
       "      <td>0</td>\n",
       "    </tr>\n",
       "    <tr>\n",
       "      <th>Feature</th>\n",
       "      <td>0</td>\n",
       "      <td>0</td>\n",
       "      <td>0</td>\n",
       "      <td>3</td>\n",
       "      <td>0</td>\n",
       "      <td>0</td>\n",
       "      <td>0</td>\n",
       "      <td>0</td>\n",
       "    </tr>\n",
       "    <tr>\n",
       "      <th>Improvement</th>\n",
       "      <td>0</td>\n",
       "      <td>0</td>\n",
       "      <td>0</td>\n",
       "      <td>2</td>\n",
       "      <td>3</td>\n",
       "      <td>0</td>\n",
       "      <td>3</td>\n",
       "      <td>0</td>\n",
       "    </tr>\n",
       "  </tbody>\n",
       "</table>\n",
       "</div>"
      ],
      "text/plain": [
       "stages             Backlog        Development            QA        Release  \\\n",
       "urgency             Normal Urgent      Normal Urgent Normal Urgent  Normal   \n",
       "teams  type                                                                  \n",
       "Mobile Bug               3      0           0      0      0      0       0   \n",
       "       Feature           0      0           0      3      0      0       0   \n",
       "       Improvement       0      0           0      2      3      0       3   \n",
       "\n",
       "stages                     \n",
       "urgency            Urgent  \n",
       "teams  type                \n",
       "Mobile Bug              0  \n",
       "       Feature          0  \n",
       "       Improvement      0  "
      ]
     },
     "execution_count": 37,
     "metadata": {},
     "output_type": "execute_result"
    }
   ],
   "source": [
    "process_board_df.sort_index().loc[('Mobile', idx[:]), :]"
   ]
  },
  {
   "cell_type": "markdown",
   "metadata": {},
   "source": [
    "Комбинируя эти подходы можно строить очень сложные условия для выбора данных. В следующий примере выбирает задачи во всех группах с типом Improvement и Feature во всех этапах начиная с этапа Development со уровнем срочности"
   ]
  },
  {
   "cell_type": "code",
   "execution_count": 38,
   "metadata": {
    "ExecuteTime": {
     "end_time": "2017-12-16T12:11:23.369102Z",
     "start_time": "2017-12-16T12:11:23.355102Z"
    }
   },
   "outputs": [
    {
     "data": {
      "text/html": [
       "<div>\n",
       "<style>\n",
       "    .dataframe thead tr:only-child th {\n",
       "        text-align: right;\n",
       "    }\n",
       "\n",
       "    .dataframe thead th {\n",
       "        text-align: left;\n",
       "    }\n",
       "\n",
       "    .dataframe tbody tr th {\n",
       "        vertical-align: top;\n",
       "    }\n",
       "</style>\n",
       "<table border=\"1\" class=\"dataframe\">\n",
       "  <thead>\n",
       "    <tr>\n",
       "      <th></th>\n",
       "      <th>stages</th>\n",
       "      <th>Development</th>\n",
       "      <th>QA</th>\n",
       "      <th>Release</th>\n",
       "    </tr>\n",
       "    <tr>\n",
       "      <th></th>\n",
       "      <th>urgency</th>\n",
       "      <th>Normal</th>\n",
       "      <th>Normal</th>\n",
       "      <th>Normal</th>\n",
       "    </tr>\n",
       "    <tr>\n",
       "      <th>teams</th>\n",
       "      <th>type</th>\n",
       "      <th></th>\n",
       "      <th></th>\n",
       "      <th></th>\n",
       "    </tr>\n",
       "  </thead>\n",
       "  <tbody>\n",
       "    <tr>\n",
       "      <th rowspan=\"2\" valign=\"top\">Backend</th>\n",
       "      <th>Feature</th>\n",
       "      <td>4</td>\n",
       "      <td>0</td>\n",
       "      <td>0</td>\n",
       "    </tr>\n",
       "    <tr>\n",
       "      <th>Improvement</th>\n",
       "      <td>0</td>\n",
       "      <td>0</td>\n",
       "      <td>0</td>\n",
       "    </tr>\n",
       "    <tr>\n",
       "      <th rowspan=\"2\" valign=\"top\">Frontend</th>\n",
       "      <th>Feature</th>\n",
       "      <td>0</td>\n",
       "      <td>0</td>\n",
       "      <td>0</td>\n",
       "    </tr>\n",
       "    <tr>\n",
       "      <th>Improvement</th>\n",
       "      <td>0</td>\n",
       "      <td>0</td>\n",
       "      <td>0</td>\n",
       "    </tr>\n",
       "    <tr>\n",
       "      <th rowspan=\"2\" valign=\"top\">Mobile</th>\n",
       "      <th>Feature</th>\n",
       "      <td>0</td>\n",
       "      <td>0</td>\n",
       "      <td>0</td>\n",
       "    </tr>\n",
       "    <tr>\n",
       "      <th>Improvement</th>\n",
       "      <td>0</td>\n",
       "      <td>3</td>\n",
       "      <td>3</td>\n",
       "    </tr>\n",
       "  </tbody>\n",
       "</table>\n",
       "</div>"
      ],
      "text/plain": [
       "stages               Development     QA Release\n",
       "urgency                   Normal Normal  Normal\n",
       "teams    type                                  \n",
       "Backend  Feature               4      0       0\n",
       "         Improvement           0      0       0\n",
       "Frontend Feature               0      0       0\n",
       "         Improvement           0      0       0\n",
       "Mobile   Feature               0      0       0\n",
       "         Improvement           0      3       3"
      ]
     },
     "execution_count": 38,
     "metadata": {},
     "output_type": "execute_result"
    }
   ],
   "source": [
    "process_board_df.sort_index().loc[(idx[:], ['Improvement', 'Feature']), (idx['Development':], 'Normal')]"
   ]
  },
  {
   "cell_type": "markdown",
   "metadata": {},
   "source": [
    "### Сброс индексов\n",
    "Иногда необходимо сбросить индексы и получить обычный индекс по возрастанию, который pandas присваивает по умолчанию при создании объектов `Series` и `DataFrame`. Это может понадобиться, например, для того, чтобы перенумеровать индексы после фильтрации или чтобы создать иерархический индекс с новой структурой. \n",
    "\n",
    "Для сброса индекса можно использовать метод `reset_index`"
   ]
  },
  {
   "cell_type": "code",
   "execution_count": 39,
   "metadata": {
    "ExecuteTime": {
     "end_time": "2017-12-16T12:11:24.526396Z",
     "start_time": "2017-12-16T12:11:24.520896Z"
    }
   },
   "outputs": [
    {
     "data": {
      "text/plain": [
       "country       year\n",
       "Afghanistan   2015    33736494\n",
       "              2016    34656032\n",
       "Kazakhstan    2015    17544126\n",
       "              2016    17797032\n",
       "Kyrgyzstan    2015     5956900\n",
       "              2016     6082700\n",
       "Tajikistan    2015     8548651\n",
       "              2016     8734951\n",
       "Turkmenistan  2015     5565284\n",
       "              2016     5662544\n",
       "Uzbekistan    2015    31298900\n",
       "              2016    31848200\n",
       "dtype: int64"
      ]
     },
     "execution_count": 39,
     "metadata": {},
     "output_type": "execute_result"
    }
   ],
   "source": [
    "pop_series"
   ]
  },
  {
   "cell_type": "code",
   "execution_count": 40,
   "metadata": {
    "ExecuteTime": {
     "end_time": "2017-12-16T12:11:24.869938Z",
     "start_time": "2017-12-16T12:11:24.857937Z"
    },
    "scrolled": false
   },
   "outputs": [
    {
     "data": {
      "text/html": [
       "<div>\n",
       "<style>\n",
       "    .dataframe thead tr:only-child th {\n",
       "        text-align: right;\n",
       "    }\n",
       "\n",
       "    .dataframe thead th {\n",
       "        text-align: left;\n",
       "    }\n",
       "\n",
       "    .dataframe tbody tr th {\n",
       "        vertical-align: top;\n",
       "    }\n",
       "</style>\n",
       "<table border=\"1\" class=\"dataframe\">\n",
       "  <thead>\n",
       "    <tr style=\"text-align: right;\">\n",
       "      <th></th>\n",
       "      <th>country</th>\n",
       "      <th>year</th>\n",
       "      <th>pop</th>\n",
       "    </tr>\n",
       "  </thead>\n",
       "  <tbody>\n",
       "    <tr>\n",
       "      <th>0</th>\n",
       "      <td>Afghanistan</td>\n",
       "      <td>2015</td>\n",
       "      <td>33736494</td>\n",
       "    </tr>\n",
       "    <tr>\n",
       "      <th>1</th>\n",
       "      <td>Afghanistan</td>\n",
       "      <td>2016</td>\n",
       "      <td>34656032</td>\n",
       "    </tr>\n",
       "    <tr>\n",
       "      <th>2</th>\n",
       "      <td>Kazakhstan</td>\n",
       "      <td>2015</td>\n",
       "      <td>17544126</td>\n",
       "    </tr>\n",
       "    <tr>\n",
       "      <th>3</th>\n",
       "      <td>Kazakhstan</td>\n",
       "      <td>2016</td>\n",
       "      <td>17797032</td>\n",
       "    </tr>\n",
       "    <tr>\n",
       "      <th>4</th>\n",
       "      <td>Kyrgyzstan</td>\n",
       "      <td>2015</td>\n",
       "      <td>5956900</td>\n",
       "    </tr>\n",
       "    <tr>\n",
       "      <th>5</th>\n",
       "      <td>Kyrgyzstan</td>\n",
       "      <td>2016</td>\n",
       "      <td>6082700</td>\n",
       "    </tr>\n",
       "    <tr>\n",
       "      <th>6</th>\n",
       "      <td>Tajikistan</td>\n",
       "      <td>2015</td>\n",
       "      <td>8548651</td>\n",
       "    </tr>\n",
       "    <tr>\n",
       "      <th>7</th>\n",
       "      <td>Tajikistan</td>\n",
       "      <td>2016</td>\n",
       "      <td>8734951</td>\n",
       "    </tr>\n",
       "    <tr>\n",
       "      <th>8</th>\n",
       "      <td>Turkmenistan</td>\n",
       "      <td>2015</td>\n",
       "      <td>5565284</td>\n",
       "    </tr>\n",
       "    <tr>\n",
       "      <th>9</th>\n",
       "      <td>Turkmenistan</td>\n",
       "      <td>2016</td>\n",
       "      <td>5662544</td>\n",
       "    </tr>\n",
       "    <tr>\n",
       "      <th>10</th>\n",
       "      <td>Uzbekistan</td>\n",
       "      <td>2015</td>\n",
       "      <td>31298900</td>\n",
       "    </tr>\n",
       "    <tr>\n",
       "      <th>11</th>\n",
       "      <td>Uzbekistan</td>\n",
       "      <td>2016</td>\n",
       "      <td>31848200</td>\n",
       "    </tr>\n",
       "  </tbody>\n",
       "</table>\n",
       "</div>"
      ],
      "text/plain": [
       "         country  year       pop\n",
       "0    Afghanistan  2015  33736494\n",
       "1    Afghanistan  2016  34656032\n",
       "2     Kazakhstan  2015  17544126\n",
       "3     Kazakhstan  2016  17797032\n",
       "4     Kyrgyzstan  2015   5956900\n",
       "5     Kyrgyzstan  2016   6082700\n",
       "6     Tajikistan  2015   8548651\n",
       "7     Tajikistan  2016   8734951\n",
       "8   Turkmenistan  2015   5565284\n",
       "9   Turkmenistan  2016   5662544\n",
       "10    Uzbekistan  2015  31298900\n",
       "11    Uzbekistan  2016  31848200"
      ]
     },
     "execution_count": 40,
     "metadata": {},
     "output_type": "execute_result"
    }
   ],
   "source": [
    "pop_flat_df = pop_series.reset_index(name='pop')\n",
    "pop_flat_df"
   ]
  },
  {
   "cell_type": "markdown",
   "metadata": {},
   "source": [
    "Если мы отфильтруем этот `DataFrame`, то в индексе будут пропуски"
   ]
  },
  {
   "cell_type": "code",
   "execution_count": 41,
   "metadata": {
    "ExecuteTime": {
     "end_time": "2017-12-16T12:11:26.585154Z",
     "start_time": "2017-12-16T12:11:26.574148Z"
    }
   },
   "outputs": [
    {
     "data": {
      "text/html": [
       "<div>\n",
       "<style>\n",
       "    .dataframe thead tr:only-child th {\n",
       "        text-align: right;\n",
       "    }\n",
       "\n",
       "    .dataframe thead th {\n",
       "        text-align: left;\n",
       "    }\n",
       "\n",
       "    .dataframe tbody tr th {\n",
       "        vertical-align: top;\n",
       "    }\n",
       "</style>\n",
       "<table border=\"1\" class=\"dataframe\">\n",
       "  <thead>\n",
       "    <tr style=\"text-align: right;\">\n",
       "      <th></th>\n",
       "      <th>country</th>\n",
       "      <th>year</th>\n",
       "      <th>pop</th>\n",
       "    </tr>\n",
       "  </thead>\n",
       "  <tbody>\n",
       "    <tr>\n",
       "      <th>0</th>\n",
       "      <td>Afghanistan</td>\n",
       "      <td>2015</td>\n",
       "      <td>33736494</td>\n",
       "    </tr>\n",
       "    <tr>\n",
       "      <th>2</th>\n",
       "      <td>Kazakhstan</td>\n",
       "      <td>2015</td>\n",
       "      <td>17544126</td>\n",
       "    </tr>\n",
       "    <tr>\n",
       "      <th>4</th>\n",
       "      <td>Kyrgyzstan</td>\n",
       "      <td>2015</td>\n",
       "      <td>5956900</td>\n",
       "    </tr>\n",
       "    <tr>\n",
       "      <th>6</th>\n",
       "      <td>Tajikistan</td>\n",
       "      <td>2015</td>\n",
       "      <td>8548651</td>\n",
       "    </tr>\n",
       "    <tr>\n",
       "      <th>8</th>\n",
       "      <td>Turkmenistan</td>\n",
       "      <td>2015</td>\n",
       "      <td>5565284</td>\n",
       "    </tr>\n",
       "    <tr>\n",
       "      <th>10</th>\n",
       "      <td>Uzbekistan</td>\n",
       "      <td>2015</td>\n",
       "      <td>31298900</td>\n",
       "    </tr>\n",
       "  </tbody>\n",
       "</table>\n",
       "</div>"
      ],
      "text/plain": [
       "         country  year       pop\n",
       "0    Afghanistan  2015  33736494\n",
       "2     Kazakhstan  2015  17544126\n",
       "4     Kyrgyzstan  2015   5956900\n",
       "6     Tajikistan  2015   8548651\n",
       "8   Turkmenistan  2015   5565284\n",
       "10    Uzbekistan  2015  31298900"
      ]
     },
     "execution_count": 41,
     "metadata": {},
     "output_type": "execute_result"
    }
   ],
   "source": [
    "pop_flat_df[pop_flat_df['year'] == 2015]"
   ]
  },
  {
   "cell_type": "markdown",
   "metadata": {},
   "source": [
    "Чтобы создать заново проиндексировать этот `DataFrame` мы можем исопльзовать метод `reset_index`. Обратите внимание, что также передаем параметр `drop=True`, так как старый индекс нам уже не нужен"
   ]
  },
  {
   "cell_type": "code",
   "execution_count": 42,
   "metadata": {
    "ExecuteTime": {
     "end_time": "2017-12-16T12:11:28.421156Z",
     "start_time": "2017-12-16T12:11:28.411658Z"
    }
   },
   "outputs": [
    {
     "data": {
      "text/html": [
       "<div>\n",
       "<style>\n",
       "    .dataframe thead tr:only-child th {\n",
       "        text-align: right;\n",
       "    }\n",
       "\n",
       "    .dataframe thead th {\n",
       "        text-align: left;\n",
       "    }\n",
       "\n",
       "    .dataframe tbody tr th {\n",
       "        vertical-align: top;\n",
       "    }\n",
       "</style>\n",
       "<table border=\"1\" class=\"dataframe\">\n",
       "  <thead>\n",
       "    <tr style=\"text-align: right;\">\n",
       "      <th></th>\n",
       "      <th>country</th>\n",
       "      <th>year</th>\n",
       "      <th>pop</th>\n",
       "    </tr>\n",
       "  </thead>\n",
       "  <tbody>\n",
       "    <tr>\n",
       "      <th>0</th>\n",
       "      <td>Afghanistan</td>\n",
       "      <td>2015</td>\n",
       "      <td>33736494</td>\n",
       "    </tr>\n",
       "    <tr>\n",
       "      <th>1</th>\n",
       "      <td>Kazakhstan</td>\n",
       "      <td>2015</td>\n",
       "      <td>17544126</td>\n",
       "    </tr>\n",
       "    <tr>\n",
       "      <th>2</th>\n",
       "      <td>Kyrgyzstan</td>\n",
       "      <td>2015</td>\n",
       "      <td>5956900</td>\n",
       "    </tr>\n",
       "    <tr>\n",
       "      <th>3</th>\n",
       "      <td>Tajikistan</td>\n",
       "      <td>2015</td>\n",
       "      <td>8548651</td>\n",
       "    </tr>\n",
       "    <tr>\n",
       "      <th>4</th>\n",
       "      <td>Turkmenistan</td>\n",
       "      <td>2015</td>\n",
       "      <td>5565284</td>\n",
       "    </tr>\n",
       "    <tr>\n",
       "      <th>5</th>\n",
       "      <td>Uzbekistan</td>\n",
       "      <td>2015</td>\n",
       "      <td>31298900</td>\n",
       "    </tr>\n",
       "  </tbody>\n",
       "</table>\n",
       "</div>"
      ],
      "text/plain": [
       "        country  year       pop\n",
       "0   Afghanistan  2015  33736494\n",
       "1    Kazakhstan  2015  17544126\n",
       "2    Kyrgyzstan  2015   5956900\n",
       "3    Tajikistan  2015   8548651\n",
       "4  Turkmenistan  2015   5565284\n",
       "5    Uzbekistan  2015  31298900"
      ]
     },
     "execution_count": 42,
     "metadata": {},
     "output_type": "execute_result"
    }
   ],
   "source": [
    "pop_flat_df[pop_flat_df['year'] == 2015].reset_index(drop=True)"
   ]
  }
 ],
 "metadata": {
  "hide_input": false,
  "kernelspec": {
   "display_name": "Python 3",
   "language": "python",
   "name": "python3"
  },
  "language_info": {
   "codemirror_mode": {
    "name": "ipython",
    "version": 3
   },
   "file_extension": ".py",
   "mimetype": "text/x-python",
   "name": "python",
   "nbconvert_exporter": "python",
   "pygments_lexer": "ipython3",
   "version": "3.6.1"
  },
  "varInspector": {
   "cols": {
    "lenName": 16,
    "lenType": 16,
    "lenVar": 40
   },
   "kernels_config": {
    "python": {
     "delete_cmd_postfix": "",
     "delete_cmd_prefix": "del ",
     "library": "var_list.py",
     "varRefreshCmd": "print(var_dic_list())"
    },
    "r": {
     "delete_cmd_postfix": ") ",
     "delete_cmd_prefix": "rm(",
     "library": "var_list.r",
     "varRefreshCmd": "cat(var_dic_list()) "
    }
   },
   "types_to_exclude": [
    "module",
    "function",
    "builtin_function_or_method",
    "instance",
    "_Feature"
   ],
   "window_display": false
  }
 },
 "nbformat": 4,
 "nbformat_minor": 2
}
